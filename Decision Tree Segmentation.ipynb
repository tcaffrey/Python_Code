{
 "cells": [
  {
   "cell_type": "markdown",
   "metadata": {},
   "source": [
    "## Decision Tree for Segmentation"
   ]
  },
  {
   "cell_type": "code",
   "execution_count": 1,
   "metadata": {},
   "outputs": [],
   "source": [
    "import pandas as pd\n",
    "from sklearn.tree import DecisionTreeClassifier # Import Decision Tree Classifier\n",
    "from sklearn.model_selection import train_test_split # Import train_test_split function\n",
    "from sklearn import metrics #Import scikit-learn metrics module for accuracy calculation\n",
    "from sklearn.decomposition import PCA\n",
    "from sklearn.preprocessing import StandardScaler\n",
    "import seaborn as sns\n",
    "import matplotlib.pyplot as plt\n",
    "import numpy as np\n",
    "from math import sqrt\n",
    "import warnings\n",
    "\n",
    "%matplotlib inline"
   ]
  },
  {
   "cell_type": "markdown",
   "metadata": {},
   "source": [
    "The decision tree work in this notebook looks to use a decision tree to classify the segments developed in the previous segmentation notebook. \n",
    "\n",
    "Rules from how the decision tree splits nodes can then be taken and used in SQL to code up subscribers directly on Google Big Query."
   ]
  },
  {
   "cell_type": "markdown",
   "metadata": {},
   "source": [
    "The original segmentation is first repeated to achieve the segment labels"
   ]
  },
  {
   "cell_type": "code",
   "execution_count": 121,
   "metadata": {},
   "outputs": [
    {
     "name": "stdout",
     "output_type": "stream",
     "text": [
      "(123587, 167)\n"
     ]
    },
    {
     "data": {
      "text/html": [
       "<div>\n",
       "<style scoped>\n",
       "    .dataframe tbody tr th:only-of-type {\n",
       "        vertical-align: middle;\n",
       "    }\n",
       "\n",
       "    .dataframe tbody tr th {\n",
       "        vertical-align: top;\n",
       "    }\n",
       "\n",
       "    .dataframe thead th {\n",
       "        text-align: right;\n",
       "    }\n",
       "</style>\n",
       "<table border=\"1\" class=\"dataframe\">\n",
       "  <thead>\n",
       "    <tr style=\"text-align: right;\">\n",
       "      <th></th>\n",
       "      <th>eval_date</th>\n",
       "      <th>pid</th>\n",
       "      <th>pid_age</th>\n",
       "      <th>cross_platform</th>\n",
       "      <th>current_sub_length</th>\n",
       "      <th>current_sub_rank</th>\n",
       "      <th>price_per_term</th>\n",
       "      <th>paypal</th>\n",
       "      <th>credit_card</th>\n",
       "      <th>direct_debit</th>\n",
       "      <th>...</th>\n",
       "      <th>occupation_skilled_manual_worker</th>\n",
       "      <th>occupation_self_employed</th>\n",
       "      <th>occupation_housewife</th>\n",
       "      <th>children_at_home</th>\n",
       "      <th>has_stocks_and_shares</th>\n",
       "      <th>isba_desc</th>\n",
       "      <th>financial_acorn_type_desc</th>\n",
       "      <th>acorn_type_desc</th>\n",
       "      <th>ts_number</th>\n",
       "      <th>postcode</th>\n",
       "    </tr>\n",
       "  </thead>\n",
       "  <tbody>\n",
       "    <tr>\n",
       "      <th>0</th>\n",
       "      <td>08/05/2019</td>\n",
       "      <td>000068d2-5ce0-4b19-9832-8884568391be</td>\n",
       "      <td>601</td>\n",
       "      <td>0</td>\n",
       "      <td>-601.0</td>\n",
       "      <td>1.0</td>\n",
       "      <td>95.37</td>\n",
       "      <td>0</td>\n",
       "      <td>1</td>\n",
       "      <td>0</td>\n",
       "      <td>...</td>\n",
       "      <td>-1</td>\n",
       "      <td>-1</td>\n",
       "      <td>-1</td>\n",
       "      <td>-1</td>\n",
       "      <td>-1</td>\n",
       "      <td>NaN</td>\n",
       "      <td>NaN</td>\n",
       "      <td>NaN</td>\n",
       "      <td>TS2601020</td>\n",
       "      <td>NaN</td>\n",
       "    </tr>\n",
       "    <tr>\n",
       "      <th>1</th>\n",
       "      <td>08/05/2019</td>\n",
       "      <td>0000883f-9856-413c-9e32-af6e351470e5</td>\n",
       "      <td>85</td>\n",
       "      <td>0</td>\n",
       "      <td>-71.0</td>\n",
       "      <td>1.0</td>\n",
       "      <td>104.04</td>\n",
       "      <td>0</td>\n",
       "      <td>1</td>\n",
       "      <td>0</td>\n",
       "      <td>...</td>\n",
       "      <td>-1</td>\n",
       "      <td>-1</td>\n",
       "      <td>-1</td>\n",
       "      <td>-1</td>\n",
       "      <td>-1</td>\n",
       "      <td>London</td>\n",
       "      <td>Young welloff private renters, less financiall...</td>\n",
       "      <td>Business areas without resident population</td>\n",
       "      <td>TS5781221</td>\n",
       "      <td>WC1V 6PX</td>\n",
       "    </tr>\n",
       "    <tr>\n",
       "      <th>2</th>\n",
       "      <td>08/05/2019</td>\n",
       "      <td>00008fcd-031a-4b8e-abf6-c98ba9e04179</td>\n",
       "      <td>45</td>\n",
       "      <td>0</td>\n",
       "      <td>-31.0</td>\n",
       "      <td>1.0</td>\n",
       "      <td>104.04</td>\n",
       "      <td>0</td>\n",
       "      <td>1</td>\n",
       "      <td>0</td>\n",
       "      <td>...</td>\n",
       "      <td>0</td>\n",
       "      <td>1</td>\n",
       "      <td>0</td>\n",
       "      <td>1</td>\n",
       "      <td>1</td>\n",
       "      <td>Wales and the West</td>\n",
       "      <td>Older professional families, spending and inve...</td>\n",
       "      <td>Wealthy countryside commuters</td>\n",
       "      <td>TS6075007</td>\n",
       "      <td>SN15 5PH</td>\n",
       "    </tr>\n",
       "    <tr>\n",
       "      <th>3</th>\n",
       "      <td>08/05/2019</td>\n",
       "      <td>0000d39c-81af-4364-b636-7f87ae1f982f</td>\n",
       "      <td>196</td>\n",
       "      <td>0</td>\n",
       "      <td>-196.0</td>\n",
       "      <td>2.0</td>\n",
       "      <td>80.00</td>\n",
       "      <td>0</td>\n",
       "      <td>1</td>\n",
       "      <td>0</td>\n",
       "      <td>...</td>\n",
       "      <td>0</td>\n",
       "      <td>0</td>\n",
       "      <td>0</td>\n",
       "      <td>0</td>\n",
       "      <td>1</td>\n",
       "      <td>Lancashire</td>\n",
       "      <td>Wealthiest middleaged couples, many investments</td>\n",
       "      <td>Wealthy countryside commuters</td>\n",
       "      <td>TS2064416</td>\n",
       "      <td>CH60 9HR</td>\n",
       "    </tr>\n",
       "    <tr>\n",
       "      <th>4</th>\n",
       "      <td>08/05/2019</td>\n",
       "      <td>0001c9df-ea30-4295-86b7-f0d4790b5621</td>\n",
       "      <td>198</td>\n",
       "      <td>1</td>\n",
       "      <td>-198.0</td>\n",
       "      <td>1.0</td>\n",
       "      <td>0.00</td>\n",
       "      <td>0</td>\n",
       "      <td>0</td>\n",
       "      <td>0</td>\n",
       "      <td>...</td>\n",
       "      <td>0</td>\n",
       "      <td>0</td>\n",
       "      <td>0</td>\n",
       "      <td>0</td>\n",
       "      <td>1</td>\n",
       "      <td>Southern</td>\n",
       "      <td>Wealthiest middleaged couples, many investments</td>\n",
       "      <td>Large house luxury</td>\n",
       "      <td>TS1375429</td>\n",
       "      <td>RH1 4JJ</td>\n",
       "    </tr>\n",
       "  </tbody>\n",
       "</table>\n",
       "<p>5 rows × 167 columns</p>\n",
       "</div>"
      ],
      "text/plain": [
       "    eval_date                                   pid  pid_age  cross_platform  \\\n",
       "0  08/05/2019  000068d2-5ce0-4b19-9832-8884568391be      601               0   \n",
       "1  08/05/2019  0000883f-9856-413c-9e32-af6e351470e5       85               0   \n",
       "2  08/05/2019  00008fcd-031a-4b8e-abf6-c98ba9e04179       45               0   \n",
       "3  08/05/2019  0000d39c-81af-4364-b636-7f87ae1f982f      196               0   \n",
       "4  08/05/2019  0001c9df-ea30-4295-86b7-f0d4790b5621      198               1   \n",
       "\n",
       "   current_sub_length  current_sub_rank  price_per_term  paypal  credit_card  \\\n",
       "0              -601.0               1.0           95.37       0            1   \n",
       "1               -71.0               1.0          104.04       0            1   \n",
       "2               -31.0               1.0          104.04       0            1   \n",
       "3              -196.0               2.0           80.00       0            1   \n",
       "4              -198.0               1.0            0.00       0            0   \n",
       "\n",
       "   direct_debit    ...     occupation_skilled_manual_worker  \\\n",
       "0             0    ...                                   -1   \n",
       "1             0    ...                                   -1   \n",
       "2             0    ...                                    0   \n",
       "3             0    ...                                    0   \n",
       "4             0    ...                                    0   \n",
       "\n",
       "   occupation_self_employed  occupation_housewife  children_at_home  \\\n",
       "0                        -1                    -1                -1   \n",
       "1                        -1                    -1                -1   \n",
       "2                         1                     0                 1   \n",
       "3                         0                     0                 0   \n",
       "4                         0                     0                 0   \n",
       "\n",
       "   has_stocks_and_shares           isba_desc  \\\n",
       "0                     -1                 NaN   \n",
       "1                     -1              London   \n",
       "2                      1  Wales and the West   \n",
       "3                      1          Lancashire   \n",
       "4                      1            Southern   \n",
       "\n",
       "                           financial_acorn_type_desc  \\\n",
       "0                                                NaN   \n",
       "1  Young welloff private renters, less financiall...   \n",
       "2  Older professional families, spending and inve...   \n",
       "3    Wealthiest middleaged couples, many investments   \n",
       "4    Wealthiest middleaged couples, many investments   \n",
       "\n",
       "                              acorn_type_desc  ts_number  postcode  \n",
       "0                                         NaN  TS2601020       NaN  \n",
       "1  Business areas without resident population  TS5781221  WC1V 6PX  \n",
       "2               Wealthy countryside commuters  TS6075007  SN15 5PH  \n",
       "3               Wealthy countryside commuters  TS2064416  CH60 9HR  \n",
       "4                          Large house luxury  TS1375429   RH1 4JJ  \n",
       "\n",
       "[5 rows x 167 columns]"
      ]
     },
     "execution_count": 121,
     "metadata": {},
     "output_type": "execute_result"
    }
   ],
   "source": [
    "dat = pd.read_csv('data for segmentation_130519.csv') #from file where seg_data is kept\n",
    "print(dat.shape)\n",
    "dat.head()"
   ]
  },
  {
   "cell_type": "code",
   "execution_count": 112,
   "metadata": {
    "scrolled": true
   },
   "outputs": [
    {
     "name": "stdout",
     "output_type": "stream",
     "text": [
      "(123587, 168)\n"
     ]
    },
    {
     "data": {
      "text/html": [
       "<div>\n",
       "<style scoped>\n",
       "    .dataframe tbody tr th:only-of-type {\n",
       "        vertical-align: middle;\n",
       "    }\n",
       "\n",
       "    .dataframe tbody tr th {\n",
       "        vertical-align: top;\n",
       "    }\n",
       "\n",
       "    .dataframe thead th {\n",
       "        text-align: right;\n",
       "    }\n",
       "</style>\n",
       "<table border=\"1\" class=\"dataframe\">\n",
       "  <thead>\n",
       "    <tr style=\"text-align: right;\">\n",
       "      <th></th>\n",
       "      <th>eval_date</th>\n",
       "      <th>pid</th>\n",
       "      <th>pid_age</th>\n",
       "      <th>cross_platform</th>\n",
       "      <th>current_sub_length</th>\n",
       "      <th>current_sub_rank</th>\n",
       "      <th>price_per_term</th>\n",
       "      <th>paypal</th>\n",
       "      <th>credit_card</th>\n",
       "      <th>direct_debit</th>\n",
       "      <th>...</th>\n",
       "      <th>occupation_self_employed</th>\n",
       "      <th>occupation_housewife</th>\n",
       "      <th>children_at_home</th>\n",
       "      <th>has_stocks_and_shares</th>\n",
       "      <th>isba_desc</th>\n",
       "      <th>financial_acorn_type_desc</th>\n",
       "      <th>acorn_type_desc</th>\n",
       "      <th>ts_number</th>\n",
       "      <th>postcode</th>\n",
       "      <th>seg</th>\n",
       "    </tr>\n",
       "  </thead>\n",
       "  <tbody>\n",
       "    <tr>\n",
       "      <th>0</th>\n",
       "      <td>08/05/2019</td>\n",
       "      <td>000068d2-5ce0-4b19-9832-8884568391be</td>\n",
       "      <td>601</td>\n",
       "      <td>0</td>\n",
       "      <td>-601.0</td>\n",
       "      <td>1.0</td>\n",
       "      <td>95.37</td>\n",
       "      <td>0</td>\n",
       "      <td>1</td>\n",
       "      <td>0</td>\n",
       "      <td>...</td>\n",
       "      <td>-1</td>\n",
       "      <td>-1</td>\n",
       "      <td>-1</td>\n",
       "      <td>-1</td>\n",
       "      <td>NaN</td>\n",
       "      <td>NaN</td>\n",
       "      <td>NaN</td>\n",
       "      <td>TS2601020</td>\n",
       "      <td>NaN</td>\n",
       "      <td>2</td>\n",
       "    </tr>\n",
       "    <tr>\n",
       "      <th>1</th>\n",
       "      <td>08/05/2019</td>\n",
       "      <td>0000883f-9856-413c-9e32-af6e351470e5</td>\n",
       "      <td>85</td>\n",
       "      <td>0</td>\n",
       "      <td>-71.0</td>\n",
       "      <td>1.0</td>\n",
       "      <td>104.04</td>\n",
       "      <td>0</td>\n",
       "      <td>1</td>\n",
       "      <td>0</td>\n",
       "      <td>...</td>\n",
       "      <td>-1</td>\n",
       "      <td>-1</td>\n",
       "      <td>-1</td>\n",
       "      <td>-1</td>\n",
       "      <td>London</td>\n",
       "      <td>Young welloff private renters, less financiall...</td>\n",
       "      <td>Business areas without resident population</td>\n",
       "      <td>TS5781221</td>\n",
       "      <td>WC1V 6PX</td>\n",
       "      <td>4</td>\n",
       "    </tr>\n",
       "    <tr>\n",
       "      <th>2</th>\n",
       "      <td>08/05/2019</td>\n",
       "      <td>00008fcd-031a-4b8e-abf6-c98ba9e04179</td>\n",
       "      <td>45</td>\n",
       "      <td>0</td>\n",
       "      <td>-31.0</td>\n",
       "      <td>1.0</td>\n",
       "      <td>104.04</td>\n",
       "      <td>0</td>\n",
       "      <td>1</td>\n",
       "      <td>0</td>\n",
       "      <td>...</td>\n",
       "      <td>1</td>\n",
       "      <td>0</td>\n",
       "      <td>1</td>\n",
       "      <td>1</td>\n",
       "      <td>Wales and the West</td>\n",
       "      <td>Older professional families, spending and inve...</td>\n",
       "      <td>Wealthy countryside commuters</td>\n",
       "      <td>TS6075007</td>\n",
       "      <td>SN15 5PH</td>\n",
       "      <td>2</td>\n",
       "    </tr>\n",
       "    <tr>\n",
       "      <th>3</th>\n",
       "      <td>08/05/2019</td>\n",
       "      <td>0000d39c-81af-4364-b636-7f87ae1f982f</td>\n",
       "      <td>196</td>\n",
       "      <td>0</td>\n",
       "      <td>-196.0</td>\n",
       "      <td>2.0</td>\n",
       "      <td>80.00</td>\n",
       "      <td>0</td>\n",
       "      <td>1</td>\n",
       "      <td>0</td>\n",
       "      <td>...</td>\n",
       "      <td>0</td>\n",
       "      <td>0</td>\n",
       "      <td>0</td>\n",
       "      <td>1</td>\n",
       "      <td>Lancashire</td>\n",
       "      <td>Wealthiest middleaged couples, many investments</td>\n",
       "      <td>Wealthy countryside commuters</td>\n",
       "      <td>TS2064416</td>\n",
       "      <td>CH60 9HR</td>\n",
       "      <td>0</td>\n",
       "    </tr>\n",
       "    <tr>\n",
       "      <th>4</th>\n",
       "      <td>08/05/2019</td>\n",
       "      <td>0001c9df-ea30-4295-86b7-f0d4790b5621</td>\n",
       "      <td>198</td>\n",
       "      <td>1</td>\n",
       "      <td>-198.0</td>\n",
       "      <td>1.0</td>\n",
       "      <td>0.00</td>\n",
       "      <td>0</td>\n",
       "      <td>0</td>\n",
       "      <td>0</td>\n",
       "      <td>...</td>\n",
       "      <td>0</td>\n",
       "      <td>0</td>\n",
       "      <td>0</td>\n",
       "      <td>1</td>\n",
       "      <td>Southern</td>\n",
       "      <td>Wealthiest middleaged couples, many investments</td>\n",
       "      <td>Large house luxury</td>\n",
       "      <td>TS1375429</td>\n",
       "      <td>RH1 4JJ</td>\n",
       "      <td>5</td>\n",
       "    </tr>\n",
       "  </tbody>\n",
       "</table>\n",
       "<p>5 rows × 168 columns</p>\n",
       "</div>"
      ],
      "text/plain": [
       "    eval_date                                   pid  pid_age  cross_platform  \\\n",
       "0  08/05/2019  000068d2-5ce0-4b19-9832-8884568391be      601               0   \n",
       "1  08/05/2019  0000883f-9856-413c-9e32-af6e351470e5       85               0   \n",
       "2  08/05/2019  00008fcd-031a-4b8e-abf6-c98ba9e04179       45               0   \n",
       "3  08/05/2019  0000d39c-81af-4364-b636-7f87ae1f982f      196               0   \n",
       "4  08/05/2019  0001c9df-ea30-4295-86b7-f0d4790b5621      198               1   \n",
       "\n",
       "   current_sub_length  current_sub_rank  price_per_term  paypal  credit_card  \\\n",
       "0              -601.0               1.0           95.37       0            1   \n",
       "1               -71.0               1.0          104.04       0            1   \n",
       "2               -31.0               1.0          104.04       0            1   \n",
       "3              -196.0               2.0           80.00       0            1   \n",
       "4              -198.0               1.0            0.00       0            0   \n",
       "\n",
       "   direct_debit ...   occupation_self_employed  occupation_housewife  \\\n",
       "0             0 ...                         -1                    -1   \n",
       "1             0 ...                         -1                    -1   \n",
       "2             0 ...                          1                     0   \n",
       "3             0 ...                          0                     0   \n",
       "4             0 ...                          0                     0   \n",
       "\n",
       "   children_at_home  has_stocks_and_shares           isba_desc  \\\n",
       "0                -1                     -1                 NaN   \n",
       "1                -1                     -1              London   \n",
       "2                 1                      1  Wales and the West   \n",
       "3                 0                      1          Lancashire   \n",
       "4                 0                      1            Southern   \n",
       "\n",
       "                           financial_acorn_type_desc  \\\n",
       "0                                                NaN   \n",
       "1  Young welloff private renters, less financiall...   \n",
       "2  Older professional families, spending and inve...   \n",
       "3    Wealthiest middleaged couples, many investments   \n",
       "4    Wealthiest middleaged couples, many investments   \n",
       "\n",
       "                              acorn_type_desc  ts_number  postcode  seg  \n",
       "0                                         NaN  TS2601020       NaN    2  \n",
       "1  Business areas without resident population  TS5781221  WC1V 6PX    4  \n",
       "2               Wealthy countryside commuters  TS6075007  SN15 5PH    2  \n",
       "3               Wealthy countryside commuters  TS2064416  CH60 9HR    0  \n",
       "4                          Large house luxury  TS1375429   RH1 4JJ    5  \n",
       "\n",
       "[5 rows x 168 columns]"
      ]
     },
     "execution_count": 112,
     "metadata": {},
     "output_type": "execute_result"
    }
   ],
   "source": [
    "dat2 = pd.read_csv('seg_2506.csv') #from file where seg_data is kept\n",
    "print(dat.shape)\n",
    "dat.head()"
   ]
  },
  {
   "cell_type": "markdown",
   "metadata": {},
   "source": [
    "Chosen variables for segmentation. "
   ]
  },
  {
   "cell_type": "code",
   "execution_count": 122,
   "metadata": {},
   "outputs": [],
   "source": [
    "dat_num = dat.fillna(0)\n",
    "dat_num = dat_num[[\n",
    " 'cross_platform',\n",
    " 'current_sub_length',\n",
    " 'current_sub_rank',\n",
    " 'price_per_term',\n",
    " 'paypal',\n",
    " 'credit_card',\n",
    " 'direct_debit',\n",
    " 'annual',\n",
    " 'monthly',\n",
    " 'weekday_prop',\n",
    "    'weekend_prop',\n",
    " 'lan_wifi_prop',\n",
    "    'mob_prop',\n",
    " 'days_since_last_seen',\n",
    " 'visit_week',\n",
    " 'pv_week',\n",
    " 'pv_premium',\n",
    " 'prop_premium_pv',\n",
    " 'story_types_total',\n",
    " 'Politics_pv',\n",
    " 'Sport_pv',\n",
    " 'News_pv',\n",
    " 'Business_pv',\n",
    " 'Lifestyle_pv',\n",
    " 'Other_pv',\n",
    " 'content_types',\n",
    " 'channels',\n",
    " 'device_types',\n",
    "#'email_sign_up',\n",
    "'unsubscribed_flag',   \n",
    " #'newsletter_sign_up',\n",
    " #'distinct_clicks_sent_ratio',\n",
    " 'clicks_sent_ratio',\n",
    " 'distinct_clicks_to_open_ratio',\n",
    " #'distinct_clicks_to_distinct_open_ratio',\n",
    " #'distinct_open_to_sent',\n",
    " 'open_to_sent',   \n",
    " 'business_email',\n",
    " 'football_email',\n",
    " 'lifestyle_email',\n",
    " 'fashion_email',\n",
    " 'news_email',\n",
    " 'politics_email',\n",
    " 'rugby_email',\n",
    " 'sports_email',\n",
    " 'tech_email',\n",
    " 'connect_email',\n",
    " 'travel_email']]"
   ]
  },
  {
   "cell_type": "code",
   "execution_count": 98,
   "metadata": {},
   "outputs": [],
   "source": [
    "from sklearn.cluster import KMeans\n",
    "\n",
    "x = dat_num.copy()\n",
    "\n",
    "pca_col = list(x.columns)\n",
    "\n",
    "scaler = StandardScaler().fit(x[pca_col])\n",
    "df_scaled = pd.DataFrame(scaler.transform(x[pca_col]))\n",
    "\n",
    "#for merging together position and name index\n",
    "df_scaled.reset_index(drop=True, inplace=True)\n",
    "\n",
    "pca = PCA(n_components=0.8)  # consider enough components to explain 80% of the variance\n",
    "pca.fit(df_scaled)\n",
    "\n",
    "pcscores = pd.DataFrame(pca.transform(df_scaled))\n",
    "pcscores.columns = ['PC'+str(i+1) for i in range(len(pcscores.columns))]\n",
    "\n",
    "seg_pca = pcscores #all components for 80% variance\n",
    "#seg_pca = pcscores.iloc[:,:n] # select the first n components"
   ]
  },
  {
   "cell_type": "markdown",
   "metadata": {},
   "source": [
    "Run the K Means Clustering determined in the previous notebook"
   ]
  },
  {
   "cell_type": "code",
   "execution_count": 27,
   "metadata": {},
   "outputs": [],
   "source": [
    "k=7"
   ]
  },
  {
   "cell_type": "code",
   "execution_count": 28,
   "metadata": {},
   "outputs": [],
   "source": [
    "km = KMeans(n_clusters=k,  random_state=123, init='k-means++', n_init=50)\n",
    "km = km.fit(seg_pca)\n",
    "seg_pca['labels'] = km.predict(seg_pca)"
   ]
  },
  {
   "cell_type": "code",
   "execution_count": 29,
   "metadata": {},
   "outputs": [
    {
     "data": {
      "text/plain": [
       "4    33634\n",
       "0    24349\n",
       "3    21761\n",
       "1    19524\n",
       "6    10380\n",
       "2     7575\n",
       "5     6364\n",
       "Name: labels, dtype: int64"
      ]
     },
     "execution_count": 29,
     "metadata": {},
     "output_type": "execute_result"
    }
   ],
   "source": [
    "seg_pca.labels.value_counts()"
   ]
  },
  {
   "cell_type": "code",
   "execution_count": 11,
   "metadata": {
    "scrolled": true
   },
   "outputs": [
    {
     "data": {
      "text/plain": [
       "4    29911\n",
       "2    28534\n",
       "0    27046\n",
       "3    19215\n",
       "1    11187\n",
       "5     7267\n",
       "6     6391\n",
       "Name: labels, dtype: int64"
      ]
     },
     "execution_count": 11,
     "metadata": {},
     "output_type": "execute_result"
    }
   ],
   "source": [
    "seg_pca.labels.value_counts()"
   ]
  },
  {
   "cell_type": "code",
   "execution_count": 30,
   "metadata": {
    "scrolled": false
   },
   "outputs": [
    {
     "data": {
      "text/plain": [
       "4    0.272148\n",
       "0    0.197019\n",
       "3    0.176078\n",
       "1    0.157978\n",
       "6    0.083989\n",
       "2    0.061293\n",
       "5    0.051494\n",
       "Name: labels, dtype: float64"
      ]
     },
     "execution_count": 30,
     "metadata": {},
     "output_type": "execute_result"
    }
   ],
   "source": [
    "seg_pca.labels.value_counts()/len(seg_pca)"
   ]
  },
  {
   "cell_type": "markdown",
   "metadata": {},
   "source": [
    "Assign the segment labels to the original data set"
   ]
  },
  {
   "cell_type": "code",
   "execution_count": 31,
   "metadata": {},
   "outputs": [],
   "source": [
    "dat['seg_label'] = seg_pca['labels']"
   ]
  },
  {
   "cell_type": "markdown",
   "metadata": {},
   "source": [
    "remove the columns as before the segmentation"
   ]
  },
  {
   "cell_type": "code",
   "execution_count": null,
   "metadata": {},
   "outputs": [],
   "source": [
    "dat_num = dat.copy()\n",
    "dat_num = dat_num.fillna(0)\n",
    "\n",
    "X = dat_num[[\n",
    " 'cross_platform',\n",
    " 'current_sub_length',\n",
    " 'current_sub_rank',\n",
    " 'price_per_term',\n",
    " 'paypal',\n",
    " 'credit_card',\n",
    " 'direct_debit',\n",
    " 'annual',\n",
    " 'monthly',\n",
    " 'weekday_prop',\n",
    " 'weekend_prop',\n",
    " 'lan_wifi_prop',\n",
    " 'mob_prop',\n",
    " 'days_since_last_seen',\n",
    " 'visit_week',\n",
    " 'pv_week',\n",
    " 'pv_premium',\n",
    " 'prop_premium_pv',\n",
    " 'story_types_total',\n",
    " 'Politics_pv',\n",
    " 'Sport_pv',\n",
    " 'News_pv',\n",
    " 'Business_pv',\n",
    " 'Lifestyle_pv',\n",
    " 'Other_pv',\n",
    " 'content_types',\n",
    " 'channels',\n",
    " 'device_types',\n",
    " 'unsubscribed_flag',\n",
    " 'clicks_sent_ratio',\n",
    " 'distinct_clicks_to_open_ratio',\n",
    " 'open_to_sent',   \n",
    " 'business_email',\n",
    " 'football_email',\n",
    " 'lifestyle_email',\n",
    " 'fashion_email',\n",
    " 'news_email',\n",
    " 'politics_email',\n",
    " 'rugby_email',\n",
    " 'sports_email',\n",
    " 'tech_email',\n",
    " 'connect_email',\n",
    " 'travel_email']]\n",
    "\n",
    "y = dat['seg_label'].copy()"
   ]
  },
  {
   "cell_type": "markdown",
   "metadata": {},
   "source": [
    "## Decision tree allocation of segments"
   ]
  },
  {
   "cell_type": "markdown",
   "metadata": {},
   "source": [
    "### Train/Test split"
   ]
  },
  {
   "cell_type": "markdown",
   "metadata": {},
   "source": [
    "The data set is split into a train and test set for tuning the decision tree"
   ]
  },
  {
   "cell_type": "code",
   "execution_count": 14,
   "metadata": {},
   "outputs": [],
   "source": [
    "X_train, X_test, y_train, y_test = train_test_split(X, y, test_size=0.3, random_state=42)"
   ]
  },
  {
   "cell_type": "markdown",
   "metadata": {},
   "source": [
    "A decision tree can have a range of different parameters tuned but for this work only the depth of the tree will be tuned."
   ]
  },
  {
   "cell_type": "markdown",
   "metadata": {},
   "source": [
    "### Train Accuracy - changing max depth"
   ]
  },
  {
   "cell_type": "code",
   "execution_count": 15,
   "metadata": {
    "scrolled": true
   },
   "outputs": [
    {
     "name": "stdout",
     "output_type": "stream",
     "text": [
      "[0, 0.41625245636342617, 0.6217200323662004, 0.6825569298347012, 0.815131198705352, 0.8675066466304473, 0.8804993642353485, 0.8995260663507109, 0.914518552768466, 0.9274650329441683, 0.9405502254074674, 0.9508033753323315, 0.9603860825338111, 0.9697722806611953, 0.9791122413593805, 0.9857588718067275, 0.99086810773321, 0.994740492428621, 0.9973529071783609, 0.9988325049127269, 0.9996069818518091, 0.9998381689978038, 0.9999306438562016, 0.9999884406427003, 1.0, 1.0, 1.0, 1.0, 1.0, 1.0, 1.0, 1.0, 1.0, 1.0, 1.0, 1.0, 1.0, 1.0, 1.0, 1.0]\n"
     ]
    }
   ],
   "source": [
    "from sklearn import tree\n",
    "\n",
    "depth = []\n",
    "depth.append(0)\n",
    "for i in range(1,40):\n",
    "    clf = tree.DecisionTreeClassifier(criterion=\"entropy\", max_depth=i, random_state=42)\n",
    "    clf = clf.fit(X_train,y_train)\n",
    "    y_pred = clf.predict(X_train)\n",
    "\n",
    "    # Model Accuracy\n",
    "    depth.append(metrics.accuracy_score(y_train, y_pred))\n",
    "print(depth)"
   ]
  },
  {
   "cell_type": "markdown",
   "metadata": {},
   "source": [
    "### Test Accuracy - changing max depth"
   ]
  },
  {
   "cell_type": "code",
   "execution_count": 16,
   "metadata": {},
   "outputs": [
    {
     "name": "stdout",
     "output_type": "stream",
     "text": [
      "[0, 0.4158373115408474, 0.613533996817434, 0.6726542061116055, 0.8093696901043774, 0.8600480081991532, 0.8719152034954284, 0.8896081128462389, 0.9026350567737411, 0.9122906384011651, 0.9206246460069585, 0.9252096987350649, 0.9260188256870836, 0.9257221458046767, 0.927286457911913, 0.9280146721687299, 0.928230439355935, 0.9280686139655312, 0.927798904981525, 0.9280146721687299, 0.9272325161151118, 0.9276910213879225, 0.9283383229495374, 0.9273403997087143, 0.927286457911913, 0.927286457911913, 0.927286457911913, 0.927286457911913, 0.927286457911913, 0.927286457911913, 0.927286457911913, 0.927286457911913, 0.927286457911913, 0.927286457911913, 0.927286457911913, 0.927286457911913, 0.927286457911913, 0.927286457911913, 0.927286457911913, 0.927286457911913]\n"
     ]
    }
   ],
   "source": [
    "depth_test = []\n",
    "depth_test.append(0)\n",
    "for i in range(1,40):\n",
    "    clf = DecisionTreeClassifier(criterion=\"entropy\", max_depth=i, random_state=42)\n",
    "    clf = clf.fit(X_train,y_train)\n",
    "    y_pred = clf.predict(X_test)\n",
    "    \n",
    "    # Model Accuracy\n",
    "    depth_test.append((metrics.accuracy_score(y_test, y_pred)))\n",
    "print(depth_test)"
   ]
  },
  {
   "cell_type": "markdown",
   "metadata": {},
   "source": [
    "### Plot of Train and Test Accuracy"
   ]
  },
  {
   "cell_type": "code",
   "execution_count": 17,
   "metadata": {},
   "outputs": [
    {
     "data": {
      "image/png": "[encoded data removed]",
      "text/plain": [
       "<Figure size 432x288 with 1 Axes>"
      ]
     },
     "metadata": {},
     "output_type": "display_data"
    }
   ],
   "source": [
    "import matplotlib.pyplot as plt \n",
    "#depth_test = pd.DataFrame(depth_test)\n",
    "plt.xlim([-1, 40])\n",
    "plt.ylim([0,1.05])\n",
    "plt.plot(depth)\n",
    "plt.plot(depth_test)\n",
    "plt.title('Accuracy Comparison')\n",
    "plt.xlabel('Max Depth')\n",
    "plt.ylabel('Accuracy')\n",
    "\n",
    "plt.show()"
   ]
  },
  {
   "cell_type": "markdown",
   "metadata": {},
   "source": [
    "From the graph the difference between train and test accuracy begins to split at a depth of 6, where the training set is starting to overfit. Therefore this depth shall be chosen for the tree to develop the rules for allocation segments from."
   ]
  },
  {
   "cell_type": "markdown",
   "metadata": {},
   "source": [
    "Fitting a tree with a depth of 6"
   ]
  },
  {
   "cell_type": "code",
   "execution_count": 18,
   "metadata": {},
   "outputs": [
    {
     "data": {
      "text/plain": [
       "0.8719152034954284"
      ]
     },
     "execution_count": 18,
     "metadata": {},
     "output_type": "execute_result"
    }
   ],
   "source": [
    "clf = tree.DecisionTreeClassifier(criterion=\"entropy\", max_depth=6, random_state=42)\n",
    "clf = clf.fit(X_train,y_train)\n",
    "y_pred = clf.predict(X_test)\n",
    "\n",
    "# Model Accuracy\n",
    "metrics.accuracy_score(y_test, y_pred)"
   ]
  },
  {
   "cell_type": "markdown",
   "metadata": {},
   "source": [
    "## Confusion Matrix - Test Set"
   ]
  },
  {
   "cell_type": "code",
   "execution_count": 19,
   "metadata": {
    "scrolled": false
   },
   "outputs": [
    {
     "data": {
      "text/html": [
       "<div>\n",
       "<style scoped>\n",
       "    .dataframe tbody tr th:only-of-type {\n",
       "        vertical-align: middle;\n",
       "    }\n",
       "\n",
       "    .dataframe tbody tr th {\n",
       "        vertical-align: top;\n",
       "    }\n",
       "\n",
       "    .dataframe thead th {\n",
       "        text-align: right;\n",
       "    }\n",
       "</style>\n",
       "<table border=\"1\" class=\"dataframe\">\n",
       "  <thead>\n",
       "    <tr style=\"text-align: right;\">\n",
       "      <th></th>\n",
       "      <th>0</th>\n",
       "      <th>1</th>\n",
       "      <th>2</th>\n",
       "      <th>3</th>\n",
       "      <th>4</th>\n",
       "      <th>5</th>\n",
       "      <th>6</th>\n",
       "    </tr>\n",
       "  </thead>\n",
       "  <tbody>\n",
       "    <tr>\n",
       "      <th>0</th>\n",
       "      <td>5419</td>\n",
       "      <td>215</td>\n",
       "      <td>33</td>\n",
       "      <td>305</td>\n",
       "      <td>1419</td>\n",
       "      <td>0</td>\n",
       "      <td>76</td>\n",
       "    </tr>\n",
       "    <tr>\n",
       "      <th>1</th>\n",
       "      <td>11</td>\n",
       "      <td>5428</td>\n",
       "      <td>176</td>\n",
       "      <td>89</td>\n",
       "      <td>98</td>\n",
       "      <td>79</td>\n",
       "      <td>48</td>\n",
       "    </tr>\n",
       "    <tr>\n",
       "      <th>2</th>\n",
       "      <td>13</td>\n",
       "      <td>30</td>\n",
       "      <td>2112</td>\n",
       "      <td>61</td>\n",
       "      <td>42</td>\n",
       "      <td>0</td>\n",
       "      <td>17</td>\n",
       "    </tr>\n",
       "    <tr>\n",
       "      <th>3</th>\n",
       "      <td>59</td>\n",
       "      <td>129</td>\n",
       "      <td>39</td>\n",
       "      <td>6110</td>\n",
       "      <td>44</td>\n",
       "      <td>0</td>\n",
       "      <td>31</td>\n",
       "    </tr>\n",
       "    <tr>\n",
       "      <th>4</th>\n",
       "      <td>818</td>\n",
       "      <td>56</td>\n",
       "      <td>195</td>\n",
       "      <td>54</td>\n",
       "      <td>8777</td>\n",
       "      <td>0</td>\n",
       "      <td>128</td>\n",
       "    </tr>\n",
       "    <tr>\n",
       "      <th>5</th>\n",
       "      <td>0</td>\n",
       "      <td>141</td>\n",
       "      <td>0</td>\n",
       "      <td>0</td>\n",
       "      <td>8</td>\n",
       "      <td>1699</td>\n",
       "      <td>0</td>\n",
       "    </tr>\n",
       "    <tr>\n",
       "      <th>6</th>\n",
       "      <td>35</td>\n",
       "      <td>23</td>\n",
       "      <td>62</td>\n",
       "      <td>72</td>\n",
       "      <td>143</td>\n",
       "      <td>0</td>\n",
       "      <td>2783</td>\n",
       "    </tr>\n",
       "  </tbody>\n",
       "</table>\n",
       "</div>"
      ],
      "text/plain": [
       "      0     1     2     3     4     5     6\n",
       "0  5419   215    33   305  1419     0    76\n",
       "1    11  5428   176    89    98    79    48\n",
       "2    13    30  2112    61    42     0    17\n",
       "3    59   129    39  6110    44     0    31\n",
       "4   818    56   195    54  8777     0   128\n",
       "5     0   141     0     0     8  1699     0\n",
       "6    35    23    62    72   143     0  2783"
      ]
     },
     "execution_count": 19,
     "metadata": {},
     "output_type": "execute_result"
    }
   ],
   "source": [
    "pd.DataFrame(metrics.confusion_matrix(y_test, y_pred))"
   ]
  },
  {
   "cell_type": "markdown",
   "metadata": {},
   "source": [
    "As can be seen from the confusion matrix the majority of misclassification occurs between segments 0 and 4. These segments are the younger demographics who are less engaged and show similar profiles. "
   ]
  },
  {
   "cell_type": "markdown",
   "metadata": {},
   "source": [
    "## Allocating rules for assigning segments"
   ]
  },
  {
   "cell_type": "markdown",
   "metadata": {},
   "source": [
    "Code to print out rules for how the tree is splitting."
   ]
  },
  {
   "cell_type": "code",
   "execution_count": 20,
   "metadata": {},
   "outputs": [],
   "source": [
    "depth_tree = 6"
   ]
  },
  {
   "cell_type": "code",
   "execution_count": 21,
   "metadata": {},
   "outputs": [],
   "source": [
    "from sklearn.tree import _tree\n",
    "\n",
    "def tree_to_code(tree, feature_names):\n",
    "\n",
    "    '''\n",
    "    Outputs a decision tree model as a Python function\n",
    "\n",
    "    Parameters:\n",
    "    -----------\n",
    "    tree: decision tree model\n",
    "    The decision tree to represent as a function\n",
    "    feature_names: list\n",
    "    The feature names of the dataset used for building the decision tree\n",
    "    '''\n",
    "\n",
    "    tree_ = tree.tree_\n",
    "    feature_name = [\n",
    "        feature_names[i] if i != _tree.TREE_UNDEFINED else \"undefined!\"\n",
    "        for i in tree_.feature\n",
    "    ]\n",
    "    print(\"def tree({}):\".format(\", \".join(feature_names)))\n",
    "\n",
    "    def recurse(node, depth):\n",
    "        indent = \"  \" * depth\n",
    "        if tree_.feature[node] != _tree.TREE_UNDEFINED:\n",
    "            name = feature_name[node]\n",
    "            threshold = tree_.threshold[node]\n",
    "            print(\"{}if {} <= {}:\".format(indent, name, threshold))\n",
    "            recurse(tree_.children_left[node], depth + 1)\n",
    "            print(\"{}else:  # if {} > {}\".format(indent, name, threshold))\n",
    "            recurse(tree_.children_right[node], depth + 1)\n",
    "        else:\n",
    "            print(\"{}return {}\".format(indent, tree_.value[node]))\n",
    "\n",
    "    recurse(0, depth_tree)"
   ]
  },
  {
   "cell_type": "code",
   "execution_count": 22,
   "metadata": {
    "scrolled": true
   },
   "outputs": [
    {
     "name": "stdout",
     "output_type": "stream",
     "text": [
      "def tree(cross_platform, current_sub_length, current_sub_rank, price_per_term, paypal, credit_card, direct_debit, annual, monthly, weekday_prop, weekend_prop, lan_wifi_prop, mob_prop, days_since_last_seen, visit_week, pv_week, pv_premium, prop_premium_pv, story_types_total, Politics_pv, Sport_pv, News_pv, Business_pv, Lifestyle_pv, Other_pv, content_types, channels, device_types, unsubscribed_flag, clicks_sent_ratio, distinct_clicks_to_open_ratio, open_to_sent, business_email, football_email, lifestyle_email, fashion_email, news_email, politics_email, rugby_email, sports_email, tech_email, telegraph_connect_email, travel_email):\n",
      "            if story_types_total <= 6.5:\n",
      "              if annual <= 0.5:\n",
      "                if mob_prop <= 0.3905574530363083:\n",
      "                  if channels <= 6.5:\n",
      "                    if weekend_prop <= 0.42740046977996826:\n",
      "                      if channels <= 4.5:\n",
      "                        return [[7.929e+03 7.000e+00 1.700e+01 1.000e+00 2.010e+02 0.000e+00 1.600e+01]]\n",
      "                      else:  # if channels > 4.5\n",
      "                        return [[3.538e+03 2.000e+00 6.000e+00 1.200e+01 1.683e+03 0.000e+00 3.200e+01]]\n",
      "                    else:  # if weekend_prop > 0.42740046977996826\n",
      "                      if weekend_prop <= 0.49240855872631073:\n",
      "                        return [[ 42.   0. 406.   1. 122.   0.   3.]]\n",
      "                      else:  # if weekend_prop > 0.49240855872631073\n",
      "                        return [[   0.    0. 2713.    0.   32.    0.    0.]]\n",
      "                  else:  # if channels > 6.5\n",
      "                    if visit_week <= 11.224999904632568:\n",
      "                      if weekday_prop <= 0.5590727925300598:\n",
      "                        return [[  0.   0. 349.   2. 284.   0.   0.]]\n",
      "                      else:  # if weekday_prop > 0.5590727925300598\n",
      "                        return [[2200.    5.    6.   34. 3723.    0.   17.]]\n",
      "                    else:  # if visit_week > 11.224999904632568\n",
      "                      if device_types <= 1.5:\n",
      "                        return [[ 630.    0.   26.    5. 2677.    4.    4.]]\n",
      "                      else:  # if device_types > 1.5\n",
      "                        return [[2.5400e+02 3.0000e+00 1.6000e+01 3.8000e+01 1.2803e+04 4.0000e+00\n",
      "  3.0000e+00]]\n",
      "                else:  # if mob_prop > 0.3905574530363083\n",
      "                  if weekend_prop <= 0.49766355752944946:\n",
      "                    if lan_wifi_prop <= 0.4932882934808731:\n",
      "                      if channels <= 10.5:\n",
      "                        return [[   0.    0.    0.    0.   33.    0. 3549.]]\n",
      "                      else:  # if channels > 10.5\n",
      "                        return [[  0.   0.   0.   0. 120.   0. 519.]]\n",
      "                    else:  # if lan_wifi_prop > 0.4932882934808731\n",
      "                      if channels <= 7.5:\n",
      "                        return [[178.   0.  14.   0.  69.   0. 663.]]\n",
      "                      else:  # if channels > 7.5\n",
      "                        return [[  2.   0.   1.   3. 723.   0. 286.]]\n",
      "                  else:  # if weekend_prop > 0.49766355752944946\n",
      "                    if weekend_prop <= 0.8032258152961731:\n",
      "                      if mob_prop <= 0.7527777850627899:\n",
      "                        return [[  0.   0. 201.   0.   8.   0.  73.]]\n",
      "                      else:  # if mob_prop > 0.7527777850627899\n",
      "                        return [[  0.   0.  10.   0.   0.   0. 168.]]\n",
      "                    else:  # if weekend_prop > 0.8032258152961731\n",
      "                      if Sport_pv <= 2.5:\n",
      "                        return [[  0.   0. 244.   0.   0.   0.   0.]]\n",
      "                      else:  # if Sport_pv > 2.5\n",
      "                        return [[ 0.  0. 12.  0.  0.  0.  2.]]\n",
      "              else:  # if annual > 0.5\n",
      "                if lan_wifi_prop <= 0.5455699265003204:\n",
      "                  if lan_wifi_prop <= 0.37574006617069244:\n",
      "                    if weekday_prop <= 0.3842105269432068:\n",
      "                      if weekday_prop <= 0.09307359531521797:\n",
      "                        return [[ 0.  0. 27.  0.  0.  0.  0.]]\n",
      "                      else:  # if weekday_prop > 0.09307359531521797\n",
      "                        return [[ 0.  0. 14.  0.  0.  0. 13.]]\n",
      "                    else:  # if weekday_prop > 0.3842105269432068\n",
      "                      if mob_prop <= 0.7357081174850464:\n",
      "                        return [[  0.   0.   0.  37.   0.   0. 207.]]\n",
      "                      else:  # if mob_prop > 0.7357081174850464\n",
      "                        return [[  0.   0.   0.   3.   0.   0. 674.]]\n",
      "                  else:  # if lan_wifi_prop > 0.37574006617069244\n",
      "                    if channels <= 6.5:\n",
      "                      if weekend_prop <= 0.489130437374115:\n",
      "                        return [[  3.   0.   0.  15.   0.   0. 137.]]\n",
      "                      else:  # if weekend_prop > 0.489130437374115\n",
      "                        return [[ 0.  0. 22.  0.  0.  0. 10.]]\n",
      "                    else:  # if channels > 6.5\n",
      "                      if current_sub_length <= -604.0:\n",
      "                        return [[  0.   0.   0. 217.   0.   0.  19.]]\n",
      "                      else:  # if current_sub_length > -604.0\n",
      "                        return [[  0.   0.   1. 134.   0.   0.  91.]]\n",
      "                else:  # if lan_wifi_prop > 0.5455699265003204\n",
      "                  if visit_week <= 3.200000047683716:\n",
      "                    if weekend_prop <= 0.4328828901052475:\n",
      "                      if weekday_prop <= 0.988095223903656:\n",
      "                        return [[345.  11.   9. 555.   0.   0.  17.]]\n",
      "                      else:  # if weekday_prop > 0.988095223903656\n",
      "                        return [[854.   2.   0.  91.   0.   0.   0.]]\n",
      "                    else:  # if weekend_prop > 0.4328828901052475\n",
      "                      if weekday_prop <= 0.3827838897705078:\n",
      "                        return [[  0.   0. 340.   1.   0.   0.   0.]]\n",
      "                      else:  # if weekday_prop > 0.3827838897705078\n",
      "                        return [[  0.   5. 152.  89.   0.   0.   0.]]\n",
      "                  else:  # if visit_week > 3.200000047683716\n",
      "                    if channels <= 6.5:\n",
      "                      if prop_premium_pv <= 0.9511904716491699:\n",
      "                        return [[2.700e+02 1.000e+00 3.900e+01 1.524e+03 0.000e+00 0.000e+00 1.500e+01]]\n",
      "                      else:  # if prop_premium_pv > 0.9511904716491699\n",
      "                        return [[ 6. 46.  1.  0.  0.  0.  0.]]\n",
      "                    else:  # if channels > 6.5\n",
      "                      if credit_card <= 0.5:\n",
      "                        return [[  63.    0.    9. 1381.   18.    0.    3.]]\n",
      "                      else:  # if credit_card > 0.5\n",
      "                        return [[2.8000e+01 2.0000e+00 7.0000e+00 1.0193e+04 3.0000e+00 1.0000e+00\n",
      "  1.0000e+00]]\n",
      "            else:  # if story_types_total > 6.5\n",
      "              if pv_premium <= 3314.5:\n",
      "                if prop_premium_pv <= 0.8850110173225403:\n",
      "                  if annual <= 0.5:\n",
      "                    if lan_wifi_prop <= 0.5211313962936401:\n",
      "                      if mob_prop <= 0.6571469604969025:\n",
      "                        return [[ 0.  6.  2.  1. 26.  0. 45.]]\n",
      "                      else:  # if mob_prop > 0.6571469604969025\n",
      "                        return [[ 0.  1.  2.  0.  0.  0. 89.]]\n",
      "                    else:  # if lan_wifi_prop > 0.5211313962936401\n",
      "                      if price_per_term <= 23.815000534057617:\n",
      "                        return [[19.  6. 15. 67. 51.  1.  3.]]\n",
      "                      else:  # if price_per_term > 23.815000534057617\n",
      "                        return [[ 35. 218.  63.   0. 883.   2.   8.]]\n",
      "                  else:  # if annual > 0.5\n",
      "                    if pv_premium <= 757.5:\n",
      "                      if mob_prop <= 0.5471806228160858:\n",
      "                        return [[  1. 157.  15. 670.   2.   1.   1.]]\n",
      "                      else:  # if mob_prop > 0.5471806228160858\n",
      "                        return [[ 0.  1.  2. 17.  0.  0. 37.]]\n",
      "                    else:  # if pv_premium > 757.5\n",
      "                      if lan_wifi_prop <= 0.2789081186056137:\n",
      "                        return [[ 0.  3.  0.  0.  0.  0. 11.]]\n",
      "                      else:  # if lan_wifi_prop > 0.2789081186056137\n",
      "                        return [[  0. 361.   0. 125.   2.   9.   0.]]\n",
      "                else:  # if prop_premium_pv > 0.8850110173225403\n",
      "                  if pv_premium <= 676.5:\n",
      "                    if mob_prop <= 0.4073646366596222:\n",
      "                      if weekend_prop <= 0.4630604237318039:\n",
      "                        return [[ 462. 1920.   21.   96.   91.    0.   10.]]\n",
      "                      else:  # if weekend_prop > 0.4630604237318039\n",
      "                        return [[  0. 384. 457.  11.   5.   0.   0.]]\n",
      "                    else:  # if mob_prop > 0.4073646366596222\n",
      "                      if weekend_prop <= 0.569776862859726:\n",
      "                        return [[  4.  37.   2.   3.   4.   0. 335.]]\n",
      "                      else:  # if weekend_prop > 0.569776862859726\n",
      "                        return [[ 0.  0. 41.  1.  0.  0. 18.]]\n",
      "                  else:  # if pv_premium > 676.5\n",
      "                    if mob_prop <= 0.44873692095279694:\n",
      "                      if pv_week <= 643.375:\n",
      "                        return [[  19. 7356.   35.   20.   40.    0.    0.]]\n",
      "                      else:  # if pv_week > 643.375\n",
      "                        return [[0.000e+00 2.052e+03 0.000e+00 0.000e+00 2.000e+00 1.440e+02 0.000e+00]]\n",
      "                    else:  # if mob_prop > 0.44873692095279694\n",
      "                      if mob_prop <= 0.783403068780899:\n",
      "                        return [[  0. 192.   3.   2.   0.   4.  67.]]\n",
      "                      else:  # if mob_prop > 0.783403068780899\n",
      "                        return [[  0.  29.   0.   0.   0.   2. 115.]]\n",
      "              else:  # if pv_premium > 3314.5\n",
      "                if pv_premium <= 3986.5:\n",
      "                  if Business_pv <= 291.5:\n",
      "                    if Sport_pv <= 485.0:\n",
      "                      if pv_week <= 927.125:\n",
      "                        return [[  0. 452.   0.   0.   0.  22.   0.]]\n",
      "                      else:  # if pv_week > 927.125\n",
      "                        return [[  0. 187.   0.   0.   1. 114.   0.]]\n",
      "                    else:  # if Sport_pv > 485.0\n",
      "                      if pv_premium <= 3611.5:\n",
      "                        return [[ 0. 19.  0.  0.  0. 41.  0.]]\n",
      "                      else:  # if pv_premium > 3611.5\n",
      "                        return [[ 0.  3.  0.  0.  0. 90.  0.]]\n",
      "                  else:  # if Business_pv > 291.5\n",
      "                    if pv_week <= 913.375:\n",
      "                      if Sport_pv <= 372.0:\n",
      "                        return [[  0.  69.   0.   0.   0. 105.   1.]]\n",
      "                      else:  # if Sport_pv > 372.0\n",
      "                        return [[ 0.  2.  0.  0.  0. 91.  0.]]\n",
      "                    else:  # if pv_week > 913.375\n",
      "                      if Lifestyle_pv <= 363.5:\n",
      "                        return [[ 0.  6.  0.  0.  0. 57.  0.]]\n",
      "                      else:  # if Lifestyle_pv > 363.5\n",
      "                        return [[  0.   0.   0.   0.   0. 255.   0.]]\n",
      "                else:  # if pv_premium > 3986.5\n",
      "                  if pv_premium <= 4251.5:\n",
      "                    if Business_pv <= 249.5:\n",
      "                      if Sport_pv <= 197.5:\n",
      "                        return [[ 0. 45.  0.  0.  0. 94.  0.]]\n",
      "                      else:  # if Sport_pv > 197.5\n",
      "                        return [[ 0.  0.  0.  0.  0. 81.  0.]]\n",
      "                    else:  # if Business_pv > 249.5\n",
      "                      return [[  0.   0.   0.   0.   0. 275.   0.]]\n",
      "                  else:  # if pv_premium > 4251.5\n",
      "                    if Sport_pv <= 2.5:\n",
      "                      if Lifestyle_pv <= 500.0:\n",
      "                        return [[0. 4. 0. 0. 0. 8. 0.]]\n",
      "                      else:  # if Lifestyle_pv > 500.0\n",
      "                        return [[ 0.  0.  0.  0.  0. 52.  0.]]\n",
      "                    else:  # if Sport_pv > 2.5\n",
      "                      if Lifestyle_pv <= 169.5:\n",
      "                        return [[ 0.  1.  0.  0.  0. 16.  0.]]\n",
      "                      else:  # if Lifestyle_pv > 169.5\n",
      "                        return [[   0.    0.    0.    0.    0. 3043.    0.]]\n"
     ]
    }
   ],
   "source": [
    "tree_to_code(clf, list(X_train.columns))"
   ]
  },
  {
   "cell_type": "markdown",
   "metadata": {},
   "source": [
    "As some of the decision branches return the same cluster regardless of the result from the split, the code can be reduced to the following:"
   ]
  },
  {
   "cell_type": "code",
   "execution_count": 99,
   "metadata": {},
   "outputs": [],
   "source": [
    "def assign_cluster(df):\n",
    "    if df['story_types_total'] <= 6.5:\n",
    "        if df['annual'] <= 0.5:\n",
    "            if df['mob_prop'] <= 0.3905574679374695:\n",
    "                if df['channels'] <= 6.5:\n",
    "                    if df['weekend_prop'] <= 0.42740046977996826:\n",
    "                        cluster = 0\n",
    "                    else:  # if weekend_prop > 0.42740046977996826\n",
    "                        cluster = 4\n",
    "                else:  # if channels > 6.5\n",
    "                    if df['visit_week'] <= 11.225000381469727:\n",
    "                        if df['weekday_prop'] <= 0.5590727925300598:\n",
    "                            cluster = 4\n",
    "                        else:  # if weekday_prop > 0.5590727925300598\n",
    "                            cluster = 2\n",
    "                    else:  # if visit_week > 11.225000381469727\n",
    "                        cluster = 2\n",
    "            else:  # if mob_prop > 0.3905574679374695\n",
    "                if df['weekend_prop'] <= 0.49766355752944946:\n",
    "                    if df['lan_wifi_prop'] <= 0.4932882785797119:\n",
    "                        cluster = 6\n",
    "                    else:  # if lan_wifi_prop > 0.4932882785797119\n",
    "                        if df['channels'] <= 7.5:\n",
    "                            cluster = 6\n",
    "                        else:  # if channels > 7.5\n",
    "                            cluster = 2\n",
    "                else:  # if weekend_prop > 0.49766355752944946\n",
    "                    if df['weekend_prop'] <= 0.8032258152961731:\n",
    "                        if df['mob_prop'] <= 0.7527778148651123:\n",
    "                            cluster = 4\n",
    "                        else:  # if mob_prop > 0.7527778148651123\n",
    "                            cluster = 6\n",
    "                    else:  # if weekend_prop > 0.8032258152961731\n",
    "                        cluster = 4\n",
    "        else:  # if annual > 0.5\n",
    "            if df['lan_wifi_prop'] <= 0.545569896697998:\n",
    "                if df['lan_wifi_prop'] <= 0.37574005126953125:\n",
    "                    if df['weekday_prop'] <= 0.3842105269432068:\n",
    "                        cluster = 4\n",
    "                    else:  # if weekday_prop > 0.3842105269432068\n",
    "                        cluster = 6\n",
    "                else:  # if lan_wifi_prop > 0.37574005126953125\n",
    "                    if df['channels'] <= 6.5:\n",
    "                        if df['weekend_prop'] <= 0.489130437374115:\n",
    "                            cluster = 6\n",
    "                        else:  # if weekend_prop > 0.489130437374115\n",
    "                            cluster = 4\n",
    "                    else:  # if channels > 6.5\n",
    "                        cluster = 3\n",
    "            else:  # if lan_wifi_prop > 0.545569896697998\n",
    "                if df['visit_week'] <= 3.200000047683716:\n",
    "                    if df['weekend_prop'] <= 0.4328829050064087:\n",
    "                        if df['weekday_prop'] <= 0.988095223903656:\n",
    "                            cluster = 3\n",
    "                        else:  # if weekday_prop > 0.988095223903656\n",
    "                            cluster = 0\n",
    "                    else:  # if weekend_prop > 0.4328829050064087\n",
    "                        cluster = 4\n",
    "                else:  # if visit_week > 3.200000047683716\n",
    "                    if df['channels'] <= 6.5:\n",
    "                        if df['prop_premium_pv'] <= 0.9511904716491699:\n",
    "                            cluster = 3\n",
    "                        else:  # if prop_premium_pv > 0.9511904716491699\n",
    "                            cluster = 1\n",
    "                    else:  # if channels > 6.5\n",
    "                        cluster = 3\n",
    "    else:  # if story_types_total > 6.5\n",
    "        if df['pv_premium'] <= 3314.5:\n",
    "            if df['prop_premium_pv'] <= 0.8850110173225403:\n",
    "                if df['annual'] <= 0.5:\n",
    "                    if df['lan_wifi_prop'] <= 0.5211313962936401:\n",
    "                        cluster = 6\n",
    "                    else:  # if lan_wifi_prop > 0.5211313962936401\n",
    "                        if df['price_per_term'] <= 23.815000534057617:\n",
    "                            cluster = 3\n",
    "                        else:  # if price_per_term > 23.815000534057617\n",
    "                            cluster = 2\n",
    "                else:  # if annual > 0.5\n",
    "                    if df['pv_premium'] <= 757.5:\n",
    "                        if df['mob_prop'] <= 0.5471806526184082:\n",
    "                            cluster = 3\n",
    "                        else:  # if mob_prop > 0.5471806526184082\n",
    "                            cluster = 6\n",
    "                    else:  # if pv_premium > 757.5\n",
    "                        if df['lan_wifi_prop'] <= 0.2789081335067749:\n",
    "                            cluster = 6\n",
    "                        else:  # if lan_wifi_prop > 0.2789081335067749\n",
    "                            cluster = 1\n",
    "            else:  # if prop_premium_pv > 0.8850110173225403\n",
    "                if df['pv_premium'] <= 676.5:\n",
    "                    if df['mob_prop'] <= 0.4073646366596222:\n",
    "                        if df['weekend_prop'] <= 0.4630604386329651:\n",
    "                            cluster = 1\n",
    "                        else:  # if weekend_prop > 0.4630604386329651\n",
    "                            cluster = 4\n",
    "                    else:  # if mob_prop > 0.4073646366596222\n",
    "                        if df['weekend_prop'] <= 0.5697768926620483:\n",
    "                            cluster = 6\n",
    "                        else:  # if weekend_prop > 0.5697768926620483\n",
    "                            cluster = 4\n",
    "                else:  # if pv_premium > 676.5\n",
    "                    if df['mob_prop'] <= 0.44873690605163574:\n",
    "                        cluster = 1\n",
    "                    else:  # if mob_prop > 0.44873690605163574\n",
    "                        if df['mob_prop'] <= 0.7834030389785767:\n",
    "                            cluster = 1\n",
    "                        else:  # if mob_prop > 0.7834030389785767\n",
    "                            cluster = 6\n",
    "        else:  # if pv_premium > 3314.5\n",
    "            if df['pv_premium'] <= 3986.5:\n",
    "                if df['Business_pv'] <= 291.5:\n",
    "                    if df['Sport_pv'] <= 485.0:\n",
    "                        cluster = 1\n",
    "                    else:  # if Sport_pv > 485.0\n",
    "                        cluster = 5\n",
    "                else:  # if Business_pv > 291.5\n",
    "                    if df['pv_week'] <= 913.375:\n",
    "                        cluster = 5\n",
    "                    else:  # if pv_week > 913.375\n",
    "                        cluster = 5\n",
    "            else:  # if pv_premium > 3986.5\n",
    "                if df['pv_premium'] <= 4251.5:\n",
    "                    if df['Business_pv'] <= 249.5:\n",
    "                        cluster = 5\n",
    "                    else:  # if Business_pv > 249.5\n",
    "                        cluster = 5\n",
    "                else:  # if pv_premium > 4251.5\n",
    "                    if df['Sport_pv'] <= 2.5:\n",
    "                        cluster = 5\n",
    "                    else:  # if Sport_pv > 2.5\n",
    "                        cluster = 5\n",
    "    return(cluster)"
   ]
  },
  {
   "cell_type": "markdown",
   "metadata": {},
   "source": [
    "Accuracy on the test set based on using this function."
   ]
  },
  {
   "cell_type": "code",
   "execution_count": 123,
   "metadata": {},
   "outputs": [],
   "source": [
    "X_test = dat_num\n",
    "code_test = X_test.apply(lambda x: assign_cluster(x), axis=1)"
   ]
  },
  {
   "cell_type": "code",
   "execution_count": 87,
   "metadata": {
    "scrolled": true
   },
   "outputs": [
    {
     "data": {
      "text/plain": [
       "0.8779240535007727"
      ]
     },
     "execution_count": 87,
     "metadata": {},
     "output_type": "execute_result"
    }
   ],
   "source": [
    "metrics.accuracy_score(seg_pca.labels, code_test)"
   ]
  },
  {
   "cell_type": "markdown",
   "metadata": {},
   "source": [
    "The correlation matrix from the coded segments and labels"
   ]
  },
  {
   "cell_type": "code",
   "execution_count": 64,
   "metadata": {
    "scrolled": true
   },
   "outputs": [
    {
     "data": {
      "text/html": [
       "<div>\n",
       "<style scoped>\n",
       "    .dataframe tbody tr th:only-of-type {\n",
       "        vertical-align: middle;\n",
       "    }\n",
       "\n",
       "    .dataframe tbody tr th {\n",
       "        vertical-align: top;\n",
       "    }\n",
       "\n",
       "    .dataframe thead th {\n",
       "        text-align: right;\n",
       "    }\n",
       "</style>\n",
       "<table border=\"1\" class=\"dataframe\">\n",
       "  <thead>\n",
       "    <tr style=\"text-align: right;\">\n",
       "      <th></th>\n",
       "      <th>0</th>\n",
       "      <th>1</th>\n",
       "      <th>2</th>\n",
       "      <th>3</th>\n",
       "      <th>4</th>\n",
       "      <th>5</th>\n",
       "      <th>6</th>\n",
       "    </tr>\n",
       "  </thead>\n",
       "  <tbody>\n",
       "    <tr>\n",
       "      <th>0</th>\n",
       "      <td>17740</td>\n",
       "      <td>702</td>\n",
       "      <td>75</td>\n",
       "      <td>1031</td>\n",
       "      <td>4540</td>\n",
       "      <td>0</td>\n",
       "      <td>261</td>\n",
       "    </tr>\n",
       "    <tr>\n",
       "      <th>1</th>\n",
       "      <td>22</td>\n",
       "      <td>17994</td>\n",
       "      <td>565</td>\n",
       "      <td>266</td>\n",
       "      <td>324</td>\n",
       "      <td>228</td>\n",
       "      <td>125</td>\n",
       "    </tr>\n",
       "    <tr>\n",
       "      <th>2</th>\n",
       "      <td>36</td>\n",
       "      <td>90</td>\n",
       "      <td>7090</td>\n",
       "      <td>156</td>\n",
       "      <td>154</td>\n",
       "      <td>0</td>\n",
       "      <td>49</td>\n",
       "    </tr>\n",
       "    <tr>\n",
       "      <th>3</th>\n",
       "      <td>163</td>\n",
       "      <td>372</td>\n",
       "      <td>144</td>\n",
       "      <td>20851</td>\n",
       "      <td>124</td>\n",
       "      <td>0</td>\n",
       "      <td>107</td>\n",
       "    </tr>\n",
       "    <tr>\n",
       "      <th>4</th>\n",
       "      <td>2702</td>\n",
       "      <td>192</td>\n",
       "      <td>646</td>\n",
       "      <td>128</td>\n",
       "      <td>29586</td>\n",
       "      <td>0</td>\n",
       "      <td>380</td>\n",
       "    </tr>\n",
       "    <tr>\n",
       "      <th>5</th>\n",
       "      <td>0</td>\n",
       "      <td>434</td>\n",
       "      <td>0</td>\n",
       "      <td>3</td>\n",
       "      <td>18</td>\n",
       "      <td>5907</td>\n",
       "      <td>2</td>\n",
       "    </tr>\n",
       "    <tr>\n",
       "      <th>6</th>\n",
       "      <td>83</td>\n",
       "      <td>100</td>\n",
       "      <td>181</td>\n",
       "      <td>222</td>\n",
       "      <td>461</td>\n",
       "      <td>1</td>\n",
       "      <td>9332</td>\n",
       "    </tr>\n",
       "  </tbody>\n",
       "</table>\n",
       "</div>"
      ],
      "text/plain": [
       "       0      1     2      3      4     5     6\n",
       "0  17740    702    75   1031   4540     0   261\n",
       "1     22  17994   565    266    324   228   125\n",
       "2     36     90  7090    156    154     0    49\n",
       "3    163    372   144  20851    124     0   107\n",
       "4   2702    192   646    128  29586     0   380\n",
       "5      0    434     0      3     18  5907     2\n",
       "6     83    100   181    222    461     1  9332"
      ]
     },
     "execution_count": 64,
     "metadata": {},
     "output_type": "execute_result"
    }
   ],
   "source": [
    "pd.DataFrame(metrics.confusion_matrix(seg_pca.labels, code_test))"
   ]
  },
  {
   "cell_type": "code",
   "execution_count": 116,
   "metadata": {
    "scrolled": true
   },
   "outputs": [],
   "source": [
    "dat2['seg'] = code_test\n",
    "dat[['pid','seg']].to_csv('pid_seg_orig.csv')\n",
    "dat_comb = pd.merge(dat, dat2, on=['pid'])"
   ]
  },
  {
   "cell_type": "code",
   "execution_count": 119,
   "metadata": {
    "scrolled": true
   },
   "outputs": [
    {
     "data": {
      "text/html": [
       "<div>\n",
       "<style scoped>\n",
       "    .dataframe tbody tr th:only-of-type {\n",
       "        vertical-align: middle;\n",
       "    }\n",
       "\n",
       "    .dataframe tbody tr th {\n",
       "        vertical-align: top;\n",
       "    }\n",
       "\n",
       "    .dataframe thead th {\n",
       "        text-align: right;\n",
       "    }\n",
       "</style>\n",
       "<table border=\"1\" class=\"dataframe\">\n",
       "  <thead>\n",
       "    <tr style=\"text-align: right;\">\n",
       "      <th></th>\n",
       "      <th>0</th>\n",
       "      <th>1</th>\n",
       "      <th>2</th>\n",
       "      <th>3</th>\n",
       "      <th>4</th>\n",
       "      <th>5</th>\n",
       "      <th>6</th>\n",
       "    </tr>\n",
       "  </thead>\n",
       "  <tbody>\n",
       "    <tr>\n",
       "      <th>0</th>\n",
       "      <td>8383</td>\n",
       "      <td>144</td>\n",
       "      <td>3111</td>\n",
       "      <td>419</td>\n",
       "      <td>2042</td>\n",
       "      <td>9</td>\n",
       "      <td>1241</td>\n",
       "    </tr>\n",
       "    <tr>\n",
       "      <th>1</th>\n",
       "      <td>150</td>\n",
       "      <td>16426</td>\n",
       "      <td>189</td>\n",
       "      <td>270</td>\n",
       "      <td>667</td>\n",
       "      <td>1108</td>\n",
       "      <td>338</td>\n",
       "    </tr>\n",
       "    <tr>\n",
       "      <th>2</th>\n",
       "      <td>2671</td>\n",
       "      <td>185</td>\n",
       "      <td>28229</td>\n",
       "      <td>97</td>\n",
       "      <td>847</td>\n",
       "      <td>19</td>\n",
       "      <td>1444</td>\n",
       "    </tr>\n",
       "    <tr>\n",
       "      <th>3</th>\n",
       "      <td>391</td>\n",
       "      <td>285</td>\n",
       "      <td>64</td>\n",
       "      <td>20357</td>\n",
       "      <td>408</td>\n",
       "      <td>6</td>\n",
       "      <td>555</td>\n",
       "    </tr>\n",
       "    <tr>\n",
       "      <th>4</th>\n",
       "      <td>1981</td>\n",
       "      <td>634</td>\n",
       "      <td>801</td>\n",
       "      <td>396</td>\n",
       "      <td>1759</td>\n",
       "      <td>4</td>\n",
       "      <td>633</td>\n",
       "    </tr>\n",
       "    <tr>\n",
       "      <th>5</th>\n",
       "      <td>0</td>\n",
       "      <td>825</td>\n",
       "      <td>7</td>\n",
       "      <td>6</td>\n",
       "      <td>3</td>\n",
       "      <td>5205</td>\n",
       "      <td>5</td>\n",
       "    </tr>\n",
       "    <tr>\n",
       "      <th>6</th>\n",
       "      <td>1091</td>\n",
       "      <td>270</td>\n",
       "      <td>1325</td>\n",
       "      <td>517</td>\n",
       "      <td>621</td>\n",
       "      <td>21</td>\n",
       "      <td>4906</td>\n",
       "    </tr>\n",
       "  </tbody>\n",
       "</table>\n",
       "</div>"
      ],
      "text/plain": [
       "      0      1      2      3     4     5     6\n",
       "0  8383    144   3111    419  2042     9  1241\n",
       "1   150  16426    189    270   667  1108   338\n",
       "2  2671    185  28229     97   847    19  1444\n",
       "3   391    285     64  20357   408     6   555\n",
       "4  1981    634    801    396  1759     4   633\n",
       "5     0    825      7      6     3  5205     5\n",
       "6  1091    270   1325    517   621    21  4906"
      ]
     },
     "execution_count": 119,
     "metadata": {},
     "output_type": "execute_result"
    }
   ],
   "source": [
    "pd.DataFrame(metrics.confusion_matrix(dat_comb.seg_x, dat_comb.seg_y))"
   ]
  },
  {
   "cell_type": "markdown",
   "metadata": {},
   "source": [
    "## Comparison in % split of segments to original segmentation"
   ]
  },
  {
   "cell_type": "markdown",
   "metadata": {},
   "source": [
    "Split of segments with new rules"
   ]
  },
  {
   "cell_type": "code",
   "execution_count": 17,
   "metadata": {
    "scrolled": true
   },
   "outputs": [
    {
     "data": {
      "text/plain": [
       "4    0.29\n",
       "3    0.18\n",
       "0    0.17\n",
       "1    0.15\n",
       "6    0.09\n",
       "2    0.08\n",
       "5    0.05\n",
       "dtype: float64"
      ]
     },
     "execution_count": 17,
     "metadata": {},
     "output_type": "execute_result"
    }
   ],
   "source": [
    "round(code_test.value_counts()/len(code_test),2)"
   ]
  },
  {
   "cell_type": "markdown",
   "metadata": {},
   "source": [
    "Split from original segmentation"
   ]
  },
  {
   "cell_type": "code",
   "execution_count": 28,
   "metadata": {
    "scrolled": false
   },
   "outputs": [
    {
     "data": {
      "text/plain": [
       "4    0.27\n",
       "0    0.20\n",
       "3    0.18\n",
       "1    0.16\n",
       "6    0.08\n",
       "2    0.06\n",
       "5    0.05\n",
       "Name: seg_label, dtype: float64"
      ]
     },
     "execution_count": 28,
     "metadata": {},
     "output_type": "execute_result"
    }
   ],
   "source": [
    "round(dat['seg_label'].value_counts()/len(dat),2)"
   ]
  },
  {
   "cell_type": "markdown",
   "metadata": {},
   "source": [
    "The splits of clusters are similar and it appears that the biggest misclassification is between 0 and 4 (which are the two youngest segments) and suggests they share similar behaviours."
   ]
  }
 ],
 "metadata": {
  "kernelspec": {
   "display_name": "Python 3",
   "language": "python",
   "name": "python3"
  },
  "language_info": {
   "codemirror_mode": {
    "name": "ipython",
    "version": 3
   },
   "file_extension": ".py",
   "mimetype": "text/x-python",
   "name": "python",
   "nbconvert_exporter": "python",
   "pygments_lexer": "ipython3",
   "version": "3.7.7"
  }
 },
 "nbformat": 4,
 "nbformat_minor": 2
}
