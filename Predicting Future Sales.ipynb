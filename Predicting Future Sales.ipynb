{
 "cells": [
  {
   "cell_type": "markdown",
   "metadata": {},
   "source": [
    "# Predicting Future Sales"
   ]
  },
  {
   "cell_type": "markdown",
   "metadata": {},
   "source": [
    "My score of 0.96224 RMSE achieved rank 2416 of 6284 on Kaggle. However, limitations on how much of the data I could run on my laptop means that it is highly likely that an improvement on this score could be achieved and is something I could come back to at a later date. "
   ]
  },
  {
   "cell_type": "code",
   "execution_count": 3,
   "metadata": {},
   "outputs": [],
   "source": [
    "import numpy as np # linear algebra\n",
    "import pandas as pd # data processing, CSV file I/O (e.g. pd.read_csv)\n",
    "import seaborn as sns\n",
    "import statsmodels\n",
    "import matplotlib.pyplot as plt\n",
    "\n",
    "%matplotlib inline\n",
    "\n",
    "#Modelling\n",
    "from sklearn.model_selection import RepeatedStratifiedKFold, GridSearchCV, RandomizedSearchCV, StratifiedKFold, KFold, RepeatedKFold, train_test_split\n",
    "from sklearn.linear_model import LinearRegression, LogisticRegression,  Ridge, RidgeCV\n",
    "from sklearn.kernel_ridge import KernelRidge\n",
    "from sklearn.neighbors import KNeighborsClassifier\n",
    "from sklearn.naive_bayes import GaussianNB\n",
    "from sklearn.ensemble import RandomForestClassifier, GradientBoostingClassifier\n",
    "from sklearn.preprocessing import StandardScaler, LabelEncoder, MinMaxScaler, LabelEncoder\n",
    "from sklearn.svm import NuSVC, SVC\n",
    "from sklearn.metrics import accuracy_score, classification_report,confusion_matrix, plot_confusion_matrix, f1_score\n",
    "from scipy.signal import hilbert, hann, convolve\n",
    "from scipy import stats\n",
    "import xgboost as xgb\n",
    "\n",
    "pd.options.display.precision = 15\n",
    "\n",
    "import time\n",
    "from datetime import datetime, date\n",
    "import json\n",
    "import ast\n",
    "from math import ceil\n",
    "from itertools import product\n",
    "import holidays\n",
    "\n",
    "import gc\n",
    "import warnings\n",
    "warnings.filterwarnings(\"ignore\")\n",
    "\n",
    "from IPython.display import HTML"
   ]
  },
  {
   "cell_type": "code",
   "execution_count": 3,
   "metadata": {},
   "outputs": [],
   "source": [
    "train = pd.read_csv('data/sales_train.csv')\n",
    "test = pd.read_csv('data/test.csv')\n",
    "submission = pd.read_csv('data/sample_submission.csv')\n",
    "items = pd.read_csv('data/items_en.csv')\n",
    "item_cats = pd.read_csv('data/item_categories_en.csv')\n",
    "shops = pd.read_csv('data/shops_en.csv')"
   ]
  },
  {
   "cell_type": "markdown",
   "metadata": {},
   "source": [
    "The process of this problem is to extract features from the files relating to items, cateogories and shops before including lagged and mean encoded sales features. "
   ]
  },
  {
   "cell_type": "markdown",
   "metadata": {},
   "source": [
    "### 0. Including revenue as a feature"
   ]
  },
  {
   "cell_type": "markdown",
   "metadata": {},
   "source": [
    "The price of an item could have an impact on the quanity of items sold. Using the previous monthly revenue for a shop/item could be a good feature and should be included."
   ]
  },
  {
   "cell_type": "code",
   "execution_count": 4,
   "metadata": {},
   "outputs": [],
   "source": [
    "train['revenue'] = train['item_price'] *  train['item_cnt_day']"
   ]
  },
  {
   "cell_type": "markdown",
   "metadata": {},
   "source": [
    "### 1. Outlier treatment"
   ]
  },
  {
   "cell_type": "code",
   "execution_count": 4,
   "metadata": {
    "scrolled": true
   },
   "outputs": [
    {
     "data": {
      "text/html": [
       "<div>\n",
       "<style scoped>\n",
       "    .dataframe tbody tr th:only-of-type {\n",
       "        vertical-align: middle;\n",
       "    }\n",
       "\n",
       "    .dataframe tbody tr th {\n",
       "        vertical-align: top;\n",
       "    }\n",
       "\n",
       "    .dataframe thead th {\n",
       "        text-align: right;\n",
       "    }\n",
       "</style>\n",
       "<table border=\"1\" class=\"dataframe\">\n",
       "  <thead>\n",
       "    <tr style=\"text-align: right;\">\n",
       "      <th></th>\n",
       "      <th>date_block_num</th>\n",
       "      <th>shop_id</th>\n",
       "      <th>item_id</th>\n",
       "      <th>item_price</th>\n",
       "      <th>item_cnt_day</th>\n",
       "      <th>revenue</th>\n",
       "    </tr>\n",
       "  </thead>\n",
       "  <tbody>\n",
       "    <tr>\n",
       "      <th>count</th>\n",
       "      <td>2.935849000000000e+06</td>\n",
       "      <td>2.935849000000000e+06</td>\n",
       "      <td>2.935849000000000e+06</td>\n",
       "      <td>2.935849000000000e+06</td>\n",
       "      <td>2.935849000000000e+06</td>\n",
       "      <td>2.935849000000000e+06</td>\n",
       "    </tr>\n",
       "    <tr>\n",
       "      <th>mean</th>\n",
       "      <td>1.456991146343017e+01</td>\n",
       "      <td>3.300172829052175e+01</td>\n",
       "      <td>1.019722705697738e+04</td>\n",
       "      <td>8.908532326979881e+02</td>\n",
       "      <td>1.242640885140891e+00</td>\n",
       "      <td>1.157732003440867e+03</td>\n",
       "    </tr>\n",
       "    <tr>\n",
       "      <th>std</th>\n",
       "      <td>9.422987708752936e+00</td>\n",
       "      <td>1.622697304830942e+01</td>\n",
       "      <td>6.324297353888805e+03</td>\n",
       "      <td>1.729799630712986e+03</td>\n",
       "      <td>2.618834430899203e+00</td>\n",
       "      <td>5.683603656618650e+03</td>\n",
       "    </tr>\n",
       "    <tr>\n",
       "      <th>min</th>\n",
       "      <td>0.000000000000000e+00</td>\n",
       "      <td>0.000000000000000e+00</td>\n",
       "      <td>0.000000000000000e+00</td>\n",
       "      <td>-1.000000000000000e+00</td>\n",
       "      <td>-2.200000000000000e+01</td>\n",
       "      <td>-6.897000000000000e+04</td>\n",
       "    </tr>\n",
       "    <tr>\n",
       "      <th>25%</th>\n",
       "      <td>7.000000000000000e+00</td>\n",
       "      <td>2.200000000000000e+01</td>\n",
       "      <td>4.476000000000000e+03</td>\n",
       "      <td>2.490000000000000e+02</td>\n",
       "      <td>1.000000000000000e+00</td>\n",
       "      <td>2.490000000000000e+02</td>\n",
       "    </tr>\n",
       "    <tr>\n",
       "      <th>50%</th>\n",
       "      <td>1.400000000000000e+01</td>\n",
       "      <td>3.100000000000000e+01</td>\n",
       "      <td>9.343000000000000e+03</td>\n",
       "      <td>3.990000000000000e+02</td>\n",
       "      <td>1.000000000000000e+00</td>\n",
       "      <td>4.490000000000000e+02</td>\n",
       "    </tr>\n",
       "    <tr>\n",
       "      <th>75%</th>\n",
       "      <td>2.300000000000000e+01</td>\n",
       "      <td>4.700000000000000e+01</td>\n",
       "      <td>1.568400000000000e+04</td>\n",
       "      <td>9.990000000000000e+02</td>\n",
       "      <td>1.000000000000000e+00</td>\n",
       "      <td>1.078200000000000e+03</td>\n",
       "    </tr>\n",
       "    <tr>\n",
       "      <th>max</th>\n",
       "      <td>3.300000000000000e+01</td>\n",
       "      <td>5.900000000000000e+01</td>\n",
       "      <td>2.216900000000000e+04</td>\n",
       "      <td>3.079800000000000e+05</td>\n",
       "      <td>2.169000000000000e+03</td>\n",
       "      <td>1.829990000001300e+06</td>\n",
       "    </tr>\n",
       "  </tbody>\n",
       "</table>\n",
       "</div>"
      ],
      "text/plain": [
       "              date_block_num                shop_id                item_id  \\\n",
       "count  2.935849000000000e+06  2.935849000000000e+06  2.935849000000000e+06   \n",
       "mean   1.456991146343017e+01  3.300172829052175e+01  1.019722705697738e+04   \n",
       "std    9.422987708752936e+00  1.622697304830942e+01  6.324297353888805e+03   \n",
       "min    0.000000000000000e+00  0.000000000000000e+00  0.000000000000000e+00   \n",
       "25%    7.000000000000000e+00  2.200000000000000e+01  4.476000000000000e+03   \n",
       "50%    1.400000000000000e+01  3.100000000000000e+01  9.343000000000000e+03   \n",
       "75%    2.300000000000000e+01  4.700000000000000e+01  1.568400000000000e+04   \n",
       "max    3.300000000000000e+01  5.900000000000000e+01  2.216900000000000e+04   \n",
       "\n",
       "                  item_price           item_cnt_day                revenue  \n",
       "count  2.935849000000000e+06  2.935849000000000e+06  2.935849000000000e+06  \n",
       "mean   8.908532326979881e+02  1.242640885140891e+00  1.157732003440867e+03  \n",
       "std    1.729799630712986e+03  2.618834430899203e+00  5.683603656618650e+03  \n",
       "min   -1.000000000000000e+00 -2.200000000000000e+01 -6.897000000000000e+04  \n",
       "25%    2.490000000000000e+02  1.000000000000000e+00  2.490000000000000e+02  \n",
       "50%    3.990000000000000e+02  1.000000000000000e+00  4.490000000000000e+02  \n",
       "75%    9.990000000000000e+02  1.000000000000000e+00  1.078200000000000e+03  \n",
       "max    3.079800000000000e+05  2.169000000000000e+03  1.829990000001300e+06  "
      ]
     },
     "execution_count": 4,
     "metadata": {},
     "output_type": "execute_result"
    }
   ],
   "source": [
    "train.describe()"
   ]
  },
  {
   "cell_type": "code",
   "execution_count": 5,
   "metadata": {},
   "outputs": [
    {
     "data": {
      "text/plain": [
       "<matplotlib.axes._subplots.AxesSubplot at 0x1d6090cbc48>"
      ]
     },
     "execution_count": 5,
     "metadata": {},
     "output_type": "execute_result"
    },
    {
     "data": {
      "image/png": "[encoded data removed]",
      "text/plain": [
       "<Figure size 720x288 with 1 Axes>"
      ]
     },
     "metadata": {
      "needs_background": "light"
     },
     "output_type": "display_data"
    },
    {
     "data": {
      "image/png": "[encoded data removed]",
      "text/plain": [
       "<Figure size 720x288 with 1 Axes>"
      ]
     },
     "metadata": {
      "needs_background": "light"
     },
     "output_type": "display_data"
    }
   ],
   "source": [
    "plt.figure(figsize=(10,4))\n",
    "plt.xlim(-100, 3000)\n",
    "sns.boxplot(x=train.item_cnt_day)\n",
    "\n",
    "plt.figure(figsize=(10,4))\n",
    "plt.xlim(train.item_price.min(), train.item_price.max()*1.1)\n",
    "sns.boxplot(x=train.item_price)"
   ]
  },
  {
   "cell_type": "markdown",
   "metadata": {},
   "source": [
    "The 2 plots show there are 2 days with very high item counts, which may be correct but for this analysis the 2 points will be removed. THe item price outlier looks strange and will be removed."
   ]
  },
  {
   "cell_type": "code",
   "execution_count": 6,
   "metadata": {},
   "outputs": [],
   "source": [
    "train = train[train.item_price<100000]\n",
    "train = train[train.item_cnt_day<1001]"
   ]
  },
  {
   "cell_type": "markdown",
   "metadata": {},
   "source": [
    "There is one item with price below zero (as seen in the min value from describe). The median for that shop and item shall be chosen to fill in this value."
   ]
  },
  {
   "cell_type": "code",
   "execution_count": 7,
   "metadata": {},
   "outputs": [
    {
     "data": {
      "text/html": [
       "<div>\n",
       "<style scoped>\n",
       "    .dataframe tbody tr th:only-of-type {\n",
       "        vertical-align: middle;\n",
       "    }\n",
       "\n",
       "    .dataframe tbody tr th {\n",
       "        vertical-align: top;\n",
       "    }\n",
       "\n",
       "    .dataframe thead th {\n",
       "        text-align: right;\n",
       "    }\n",
       "</style>\n",
       "<table border=\"1\" class=\"dataframe\">\n",
       "  <thead>\n",
       "    <tr style=\"text-align: right;\">\n",
       "      <th></th>\n",
       "      <th>date</th>\n",
       "      <th>date_block_num</th>\n",
       "      <th>shop_id</th>\n",
       "      <th>item_id</th>\n",
       "      <th>item_price</th>\n",
       "      <th>item_cnt_day</th>\n",
       "      <th>revenue</th>\n",
       "    </tr>\n",
       "  </thead>\n",
       "  <tbody>\n",
       "    <tr>\n",
       "      <th>484683</th>\n",
       "      <td>15.05.2013</td>\n",
       "      <td>4</td>\n",
       "      <td>32</td>\n",
       "      <td>2973</td>\n",
       "      <td>-1.0</td>\n",
       "      <td>1.0</td>\n",
       "      <td>-1.0</td>\n",
       "    </tr>\n",
       "  </tbody>\n",
       "</table>\n",
       "</div>"
      ],
      "text/plain": [
       "              date  date_block_num  shop_id  item_id  item_price  \\\n",
       "484683  15.05.2013               4       32     2973        -1.0   \n",
       "\n",
       "        item_cnt_day  revenue  \n",
       "484683           1.0     -1.0  "
      ]
     },
     "execution_count": 7,
     "metadata": {},
     "output_type": "execute_result"
    }
   ],
   "source": [
    "train[train.item_price < 0]"
   ]
  },
  {
   "cell_type": "code",
   "execution_count": 8,
   "metadata": {},
   "outputs": [],
   "source": [
    "median = train[(train.shop_id==32)&(train.item_id==2973)&(train.date_block_num==4)&(train.item_price>0)].item_price.median()\n",
    "train.loc[train.item_price<0, 'item_price'] = median"
   ]
  },
  {
   "cell_type": "markdown",
   "metadata": {},
   "source": [
    "#### Duplicate values in shops"
   ]
  },
  {
   "cell_type": "code",
   "execution_count": 10,
   "metadata": {
    "scrolled": true
   },
   "outputs": [
    {
     "data": {
      "text/html": [
       "<div>\n",
       "<style scoped>\n",
       "    .dataframe tbody tr th:only-of-type {\n",
       "        vertical-align: middle;\n",
       "    }\n",
       "\n",
       "    .dataframe tbody tr th {\n",
       "        vertical-align: top;\n",
       "    }\n",
       "\n",
       "    .dataframe thead th {\n",
       "        text-align: right;\n",
       "    }\n",
       "</style>\n",
       "<table border=\"1\" class=\"dataframe\">\n",
       "  <thead>\n",
       "    <tr style=\"text-align: right;\">\n",
       "      <th></th>\n",
       "      <th>shop_name</th>\n",
       "      <th>shop_id</th>\n",
       "    </tr>\n",
       "  </thead>\n",
       "  <tbody>\n",
       "    <tr>\n",
       "      <th>0</th>\n",
       "      <td>! Yakutsk Ordzhonikidze, 56 Franc</td>\n",
       "      <td>0</td>\n",
       "    </tr>\n",
       "    <tr>\n",
       "      <th>1</th>\n",
       "      <td>! Yakutsk TC \"Central\" Franc</td>\n",
       "      <td>1</td>\n",
       "    </tr>\n",
       "    <tr>\n",
       "      <th>2</th>\n",
       "      <td>Adygea TC \"Mega\"</td>\n",
       "      <td>2</td>\n",
       "    </tr>\n",
       "    <tr>\n",
       "      <th>3</th>\n",
       "      <td>Balashikha TRC \"October-Kinomir\"</td>\n",
       "      <td>3</td>\n",
       "    </tr>\n",
       "    <tr>\n",
       "      <th>56</th>\n",
       "      <td>Czechs SEC \"Carnival\"</td>\n",
       "      <td>56</td>\n",
       "    </tr>\n",
       "    <tr>\n",
       "      <th>55</th>\n",
       "      <td>Digital storage 1C-line</td>\n",
       "      <td>55</td>\n",
       "    </tr>\n",
       "    <tr>\n",
       "      <th>9</th>\n",
       "      <td>Itinerant trade</td>\n",
       "      <td>9</td>\n",
       "    </tr>\n",
       "    <tr>\n",
       "      <th>15</th>\n",
       "      <td>Kaluga SEC \"XXI Century\"</td>\n",
       "      <td>15</td>\n",
       "    </tr>\n",
       "    <tr>\n",
       "      <th>13</th>\n",
       "      <td>Kazan shopping center \"Bahetle\"</td>\n",
       "      <td>13</td>\n",
       "    </tr>\n",
       "    <tr>\n",
       "      <th>14</th>\n",
       "      <td>Kazan shopping mall of \"Parkhouse\" II of</td>\n",
       "      <td>14</td>\n",
       "    </tr>\n",
       "    <tr>\n",
       "      <th>54</th>\n",
       "      <td>Khimki TC \"Mega\"</td>\n",
       "      <td>54</td>\n",
       "    </tr>\n",
       "    <tr>\n",
       "      <th>16</th>\n",
       "      <td>Kolomna TC \"Rio\"</td>\n",
       "      <td>16</td>\n",
       "    </tr>\n",
       "    <tr>\n",
       "      <th>18</th>\n",
       "      <td>Krasnoyarsk SC \"June\"</td>\n",
       "      <td>18</td>\n",
       "    </tr>\n",
       "    <tr>\n",
       "      <th>17</th>\n",
       "      <td>Krasnoyarsk TC \"Vzletka Plaza\"</td>\n",
       "      <td>17</td>\n",
       "    </tr>\n",
       "    <tr>\n",
       "      <th>19</th>\n",
       "      <td>Kursk TC \"Pushkin\"</td>\n",
       "      <td>19</td>\n",
       "    </tr>\n",
       "    <tr>\n",
       "      <th>20</th>\n",
       "      <td>Moscow \"Sale\"</td>\n",
       "      <td>20</td>\n",
       "    </tr>\n",
       "    <tr>\n",
       "      <th>21</th>\n",
       "      <td>Moscow MTRTS \"Afi Mall\"</td>\n",
       "      <td>21</td>\n",
       "    </tr>\n",
       "    <tr>\n",
       "      <th>22</th>\n",
       "      <td>Moscow Shop C21</td>\n",
       "      <td>22</td>\n",
       "    </tr>\n",
       "    <tr>\n",
       "      <th>30</th>\n",
       "      <td>Moscow TC \"Perlovskiy\"</td>\n",
       "      <td>30</td>\n",
       "    </tr>\n",
       "    <tr>\n",
       "      <th>23</th>\n",
       "      <td>Moscow TK \"Budenovsky\" (pav.A2)</td>\n",
       "      <td>23</td>\n",
       "    </tr>\n",
       "    <tr>\n",
       "      <th>24</th>\n",
       "      <td>Moscow TK \"Budenovsky\" (pav.K7)</td>\n",
       "      <td>24</td>\n",
       "    </tr>\n",
       "    <tr>\n",
       "      <th>25</th>\n",
       "      <td>Moscow TRC \"Atrium\"</td>\n",
       "      <td>25</td>\n",
       "    </tr>\n",
       "    <tr>\n",
       "      <th>27</th>\n",
       "      <td>Moscow shopping center \"MEGA Belaya Dacha II\"</td>\n",
       "      <td>27</td>\n",
       "    </tr>\n",
       "    <tr>\n",
       "      <th>28</th>\n",
       "      <td>Moscow shopping center \"MEGA Teply Stan\" II of</td>\n",
       "      <td>28</td>\n",
       "    </tr>\n",
       "    <tr>\n",
       "      <th>29</th>\n",
       "      <td>Moscow shopping center \"New Age\" (Novokosino)</td>\n",
       "      <td>29</td>\n",
       "    </tr>\n",
       "    <tr>\n",
       "      <th>31</th>\n",
       "      <td>Moscow shopping center \"Semyonov\"</td>\n",
       "      <td>31</td>\n",
       "    </tr>\n",
       "    <tr>\n",
       "      <th>32</th>\n",
       "      <td>Moscow shopping center \"Silver House\"</td>\n",
       "      <td>32</td>\n",
       "    </tr>\n",
       "    <tr>\n",
       "      <th>26</th>\n",
       "      <td>Moscow shopping mall \"area\" (Belyaevo)</td>\n",
       "      <td>26</td>\n",
       "    </tr>\n",
       "    <tr>\n",
       "      <th>33</th>\n",
       "      <td>Mytishchi TRK \"XL-3\"</td>\n",
       "      <td>33</td>\n",
       "    </tr>\n",
       "    <tr>\n",
       "      <th>35</th>\n",
       "      <td>Nizhny Novgorod SEC \"Fantasy\"</td>\n",
       "      <td>35</td>\n",
       "    </tr>\n",
       "    <tr>\n",
       "      <th>34</th>\n",
       "      <td>Nizhny Novgorod SEC \"RIO\"</td>\n",
       "      <td>34</td>\n",
       "    </tr>\n",
       "    <tr>\n",
       "      <th>36</th>\n",
       "      <td>Novosibirsk SEC \"Gallery Novosibirsk\"</td>\n",
       "      <td>36</td>\n",
       "    </tr>\n",
       "    <tr>\n",
       "      <th>37</th>\n",
       "      <td>Novosibirsk TC \"Mega\"</td>\n",
       "      <td>37</td>\n",
       "    </tr>\n",
       "    <tr>\n",
       "      <th>38</th>\n",
       "      <td>Omsk TC \"Mega\"</td>\n",
       "      <td>38</td>\n",
       "    </tr>\n",
       "    <tr>\n",
       "      <th>41</th>\n",
       "      <td>RostovNaDonu TC \"Mega\"</td>\n",
       "      <td>41</td>\n",
       "    </tr>\n",
       "    <tr>\n",
       "      <th>39</th>\n",
       "      <td>RostovNaDonu TRC \"Megacenter Horizon\"</td>\n",
       "      <td>39</td>\n",
       "    </tr>\n",
       "    <tr>\n",
       "      <th>40</th>\n",
       "      <td>RostovNaDonu TRC \"Megacenter Horizon\" Island</td>\n",
       "      <td>40</td>\n",
       "    </tr>\n",
       "    <tr>\n",
       "      <th>44</th>\n",
       "      <td>Samara TC \"Melody\"</td>\n",
       "      <td>44</td>\n",
       "    </tr>\n",
       "    <tr>\n",
       "      <th>45</th>\n",
       "      <td>Samara TC \"Parkhaus\"</td>\n",
       "      <td>45</td>\n",
       "    </tr>\n",
       "    <tr>\n",
       "      <th>46</th>\n",
       "      <td>Sergiyev Posad TC \"7H\"</td>\n",
       "      <td>46</td>\n",
       "    </tr>\n",
       "    <tr>\n",
       "      <th>12</th>\n",
       "      <td>Shop Online Emergencies</td>\n",
       "      <td>12</td>\n",
       "    </tr>\n",
       "    <tr>\n",
       "      <th>42</th>\n",
       "      <td>St. Petersburg TK \"Nevsky Center\"</td>\n",
       "      <td>42</td>\n",
       "    </tr>\n",
       "    <tr>\n",
       "      <th>43</th>\n",
       "      <td>St. Petersburg TK \"Sennaya\"</td>\n",
       "      <td>43</td>\n",
       "    </tr>\n",
       "    <tr>\n",
       "      <th>47</th>\n",
       "      <td>Surgut SEC \"City Mall\"</td>\n",
       "      <td>47</td>\n",
       "    </tr>\n",
       "    <tr>\n",
       "      <th>48</th>\n",
       "      <td>Tomsk SEC \"Emerald City\"</td>\n",
       "      <td>48</td>\n",
       "    </tr>\n",
       "    <tr>\n",
       "      <th>50</th>\n",
       "      <td>Tyumen SC \"Goodwin\"</td>\n",
       "      <td>50</td>\n",
       "    </tr>\n",
       "    <tr>\n",
       "      <th>51</th>\n",
       "      <td>Tyumen SC \"Green Coast\"</td>\n",
       "      <td>51</td>\n",
       "    </tr>\n",
       "    <tr>\n",
       "      <th>49</th>\n",
       "      <td>Tyumen SEC \"Crystal\"</td>\n",
       "      <td>49</td>\n",
       "    </tr>\n",
       "    <tr>\n",
       "      <th>52</th>\n",
       "      <td>Ufa TC \"Central\"</td>\n",
       "      <td>52</td>\n",
       "    </tr>\n",
       "    <tr>\n",
       "      <th>53</th>\n",
       "      <td>Ufa TC \"Family\" 2</td>\n",
       "      <td>53</td>\n",
       "    </tr>\n",
       "    <tr>\n",
       "      <th>5</th>\n",
       "      <td>Vologda SEC \"Marmalade\"</td>\n",
       "      <td>5</td>\n",
       "    </tr>\n",
       "    <tr>\n",
       "      <th>4</th>\n",
       "      <td>Volzhsky mall \"Volga Mall\"</td>\n",
       "      <td>4</td>\n",
       "    </tr>\n",
       "    <tr>\n",
       "      <th>6</th>\n",
       "      <td>Voronezh (Plekhanovskaya, 13)</td>\n",
       "      <td>6</td>\n",
       "    </tr>\n",
       "    <tr>\n",
       "      <th>7</th>\n",
       "      <td>Voronezh TRC \"Maksimir\"</td>\n",
       "      <td>7</td>\n",
       "    </tr>\n",
       "    <tr>\n",
       "      <th>8</th>\n",
       "      <td>Voronezh TRC City-Park \"City\"</td>\n",
       "      <td>8</td>\n",
       "    </tr>\n",
       "    <tr>\n",
       "      <th>57</th>\n",
       "      <td>Yakutsk Ordzhonikidze, 56</td>\n",
       "      <td>57</td>\n",
       "    </tr>\n",
       "    <tr>\n",
       "      <th>58</th>\n",
       "      <td>Yakutsk TC \"Central\"</td>\n",
       "      <td>58</td>\n",
       "    </tr>\n",
       "    <tr>\n",
       "      <th>59</th>\n",
       "      <td>Yaroslavl shopping center \"Altair\"</td>\n",
       "      <td>59</td>\n",
       "    </tr>\n",
       "    <tr>\n",
       "      <th>10</th>\n",
       "      <td>Zhukovsky Street. Chkalov 39m?</td>\n",
       "      <td>10</td>\n",
       "    </tr>\n",
       "    <tr>\n",
       "      <th>11</th>\n",
       "      <td>Zhukovsky Street. Chkalov 39m²</td>\n",
       "      <td>11</td>\n",
       "    </tr>\n",
       "  </tbody>\n",
       "</table>\n",
       "</div>"
      ],
      "text/plain": [
       "                                         shop_name  shop_id\n",
       "0                ! Yakutsk Ordzhonikidze, 56 Franc        0\n",
       "1                     ! Yakutsk TC \"Central\" Franc        1\n",
       "2                                 Adygea TC \"Mega\"        2\n",
       "3                 Balashikha TRC \"October-Kinomir\"        3\n",
       "56                           Czechs SEC \"Carnival\"       56\n",
       "55                         Digital storage 1C-line       55\n",
       "9                                  Itinerant trade        9\n",
       "15                        Kaluga SEC \"XXI Century\"       15\n",
       "13                 Kazan shopping center \"Bahetle\"       13\n",
       "14        Kazan shopping mall of \"Parkhouse\" II of       14\n",
       "54                                Khimki TC \"Mega\"       54\n",
       "16                                Kolomna TC \"Rio\"       16\n",
       "18                           Krasnoyarsk SC \"June\"       18\n",
       "17                  Krasnoyarsk TC \"Vzletka Plaza\"       17\n",
       "19                              Kursk TC \"Pushkin\"       19\n",
       "20                                   Moscow \"Sale\"       20\n",
       "21                         Moscow MTRTS \"Afi Mall\"       21\n",
       "22                                 Moscow Shop C21       22\n",
       "30                          Moscow TC \"Perlovskiy\"       30\n",
       "23                 Moscow TK \"Budenovsky\" (pav.A2)       23\n",
       "24                 Moscow TK \"Budenovsky\" (pav.K7)       24\n",
       "25                             Moscow TRC \"Atrium\"       25\n",
       "27   Moscow shopping center \"MEGA Belaya Dacha II\"       27\n",
       "28  Moscow shopping center \"MEGA Teply Stan\" II of       28\n",
       "29   Moscow shopping center \"New Age\" (Novokosino)       29\n",
       "31               Moscow shopping center \"Semyonov\"       31\n",
       "32           Moscow shopping center \"Silver House\"       32\n",
       "26          Moscow shopping mall \"area\" (Belyaevo)       26\n",
       "33                            Mytishchi TRK \"XL-3\"       33\n",
       "35                   Nizhny Novgorod SEC \"Fantasy\"       35\n",
       "34                       Nizhny Novgorod SEC \"RIO\"       34\n",
       "36           Novosibirsk SEC \"Gallery Novosibirsk\"       36\n",
       "37                           Novosibirsk TC \"Mega\"       37\n",
       "38                                  Omsk TC \"Mega\"       38\n",
       "41                          RostovNaDonu TC \"Mega\"       41\n",
       "39           RostovNaDonu TRC \"Megacenter Horizon\"       39\n",
       "40    RostovNaDonu TRC \"Megacenter Horizon\" Island       40\n",
       "44                              Samara TC \"Melody\"       44\n",
       "45                            Samara TC \"Parkhaus\"       45\n",
       "46                          Sergiyev Posad TC \"7H\"       46\n",
       "12                         Shop Online Emergencies       12\n",
       "42               St. Petersburg TK \"Nevsky Center\"       42\n",
       "43                     St. Petersburg TK \"Sennaya\"       43\n",
       "47                          Surgut SEC \"City Mall\"       47\n",
       "48                        Tomsk SEC \"Emerald City\"       48\n",
       "50                             Tyumen SC \"Goodwin\"       50\n",
       "51                         Tyumen SC \"Green Coast\"       51\n",
       "49                            Tyumen SEC \"Crystal\"       49\n",
       "52                                Ufa TC \"Central\"       52\n",
       "53                               Ufa TC \"Family\" 2       53\n",
       "5                          Vologda SEC \"Marmalade\"        5\n",
       "4                       Volzhsky mall \"Volga Mall\"        4\n",
       "6                    Voronezh (Plekhanovskaya, 13)        6\n",
       "7                          Voronezh TRC \"Maksimir\"        7\n",
       "8                    Voronezh TRC City-Park \"City\"        8\n",
       "57                       Yakutsk Ordzhonikidze, 56       57\n",
       "58                            Yakutsk TC \"Central\"       58\n",
       "59              Yaroslavl shopping center \"Altair\"       59\n",
       "10                  Zhukovsky Street. Chkalov 39m?       10\n",
       "11                  Zhukovsky Street. Chkalov 39m²       11"
      ]
     },
     "execution_count": 10,
     "metadata": {},
     "output_type": "execute_result"
    }
   ],
   "source": [
    "shops.sort_values(by = ['shop_name'], ascending = True)"
   ]
  },
  {
   "cell_type": "markdown",
   "metadata": {},
   "source": [
    "It appears the shop name for shop_id 0 and 1 both have an exclamation mark before them and in truth are the same shop as 57 and 58 respectively. 10 and 11 are also the same but have 1 character different."
   ]
  },
  {
   "cell_type": "code",
   "execution_count": 11,
   "metadata": {},
   "outputs": [],
   "source": [
    "train.loc[train.shop_id == 0, 'shop_id'] = 57\n",
    "test.loc[test.shop_id == 0, 'shop_id'] = 57\n",
    "\n",
    "train.loc[train.shop_id == 1, 'shop_id'] = 58\n",
    "test.loc[test.shop_id == 1, 'shop_id'] = 58\n",
    "\n",
    "train.loc[train.shop_id == 10, 'shop_id'] = 11\n",
    "test.loc[test.shop_id == 10, 'shop_id'] = 11"
   ]
  },
  {
   "cell_type": "markdown",
   "metadata": {},
   "source": [
    "### 2. Adding features (Cities, Item Types & Subtypes)"
   ]
  },
  {
   "cell_type": "markdown",
   "metadata": {},
   "source": [
    "#### Cities of shops and creating ids"
   ]
  },
  {
   "cell_type": "markdown",
   "metadata": {},
   "source": [
    "City names are contained in the shop name. This can be stripped out and a feature formed with it. However there are a few shop names that need renamed to allow this city to be stripped out."
   ]
  },
  {
   "cell_type": "code",
   "execution_count": 12,
   "metadata": {},
   "outputs": [],
   "source": [
    "shops.loc[shops.shop_name == '! Yakutsk Ordzhonikidze, 56 Franc', 'shop_name'] = 'Yakutsk Ordzhonikidze, 56 Franc'\n",
    "shops.loc[shops.shop_name == '! Yakutsk TC \"Central\" Franc', 'shop_name'] = 'Yakutsk TC \"Central\" Franc'\n",
    "shops.loc[shops.shop_name == 'Shop Online Emergencies', 'shop_name'] = 'Shop_Online Emergencies'\n",
    "shops.loc[shops.shop_name == 'St. Petersburg TK \"Nevsky Center\"', 'shop_name'] = 'St.Petersburg TK \"Nevsky Center\"'\n",
    "shops.loc[shops.shop_name == 'St. Petersburg TK \"Sennaya\"', 'shop_name'] = 'St.Petersburg TK \"Sennaya\"\" Franc'"
   ]
  },
  {
   "cell_type": "code",
   "execution_count": 13,
   "metadata": {
    "scrolled": true
   },
   "outputs": [],
   "source": [
    "shops['city'] = shops['shop_name'].str.split(' ').map(lambda x: x[0])\n",
    "shops['city_code'] = LabelEncoder().fit_transform(shops['city'])\n",
    "shops = shops[['shop_id','city_code']]"
   ]
  },
  {
   "cell_type": "markdown",
   "metadata": {},
   "source": [
    "#### Creating ids for item and item subtype"
   ]
  },
  {
   "cell_type": "code",
   "execution_count": 14,
   "metadata": {},
   "outputs": [],
   "source": [
    "item_cats['split'] = item_cats['item_category_name'].str.split('-')\n",
    "item_cats['type'] = item_cats['split'].map(lambda x: x[0].strip())\n",
    "item_cats['type_code'] = LabelEncoder().fit_transform(item_cats['type'])\n",
    "# if subtype is nan then type\n",
    "item_cats['subtype'] = item_cats['split'].map(lambda x: x[1].strip() if len(x) > 1 else x[0].strip())\n",
    "item_cats['subtype_code'] = LabelEncoder().fit_transform(item_cats['subtype'])\n",
    "item_cats = item_cats[['item_category_id','type_code', 'subtype_code']]\n",
    "items.drop(['item_name'], axis=1, inplace=True)"
   ]
  },
  {
   "cell_type": "code",
   "execution_count": 15,
   "metadata": {},
   "outputs": [
    {
     "data": {
      "text/plain": [
       "9.865304946899414"
      ]
     },
     "execution_count": 15,
     "metadata": {},
     "output_type": "execute_result"
    }
   ],
   "source": [
    "ts = time.time()\n",
    "grid = []\n",
    "cols = ['date_block_num','shop_id','item_id']\n",
    "for i in range(34):\n",
    "    sales = train[train.date_block_num==i]\n",
    "    grid.append(np.array(list(product([i], sales.shop_id.unique(), sales.item_id.unique())), dtype='int16'))\n",
    "    \n",
    "grid = pd.DataFrame(np.vstack(grid), columns=cols)\n",
    "grid['date_block_num'] = grid['date_block_num'].astype(np.int8)\n",
    "grid['shop_id'] = grid['shop_id'].astype(np.int8)\n",
    "grid['item_id'] = grid['item_id'].astype(np.int16)\n",
    "grid.sort_values(cols,inplace=True)\n",
    "time.time() - ts"
   ]
  },
  {
   "cell_type": "markdown",
   "metadata": {},
   "source": [
    "#### Joining monthly sales onto monthly grid of shop/item"
   ]
  },
  {
   "cell_type": "code",
   "execution_count": 16,
   "metadata": {},
   "outputs": [],
   "source": [
    "train_grp = train.groupby(['shop_id', 'item_id', 'date_block_num']).agg({'item_cnt_day': ['sum']})\n",
    "train_grp.columns=['item_cnt_month']\n",
    "train_grp.reset_index(inplace=True)"
   ]
  },
  {
   "cell_type": "code",
   "execution_count": 17,
   "metadata": {},
   "outputs": [
    {
     "data": {
      "text/plain": [
       "14.90252161026001"
      ]
     },
     "execution_count": 17,
     "metadata": {},
     "output_type": "execute_result"
    }
   ],
   "source": [
    "ts = time.time()\n",
    "grid = pd.merge(grid, train_grp, on=['shop_id', 'item_id', 'date_block_num'], how='left')\n",
    "grid['item_cnt_month'] = (grid['item_cnt_month']\n",
    "                                .fillna(0)\n",
    "                                .clip(0,20) # NB clip target here\n",
    "                                .astype(np.float16))\n",
    "time.time() - ts"
   ]
  },
  {
   "cell_type": "markdown",
   "metadata": {},
   "source": [
    "### 3. Adding features (Month and Bank Holidays)"
   ]
  },
  {
   "cell_type": "markdown",
   "metadata": {},
   "source": [
    "The actual month of sale could have a significant impact on the sales"
   ]
  },
  {
   "cell_type": "code",
   "execution_count": 18,
   "metadata": {},
   "outputs": [],
   "source": [
    "train['month'] = train.date.apply(lambda x: datetime.strptime(x, '%d.%m.%Y').strftime('%m'))\n",
    "train['year'] = train.date.apply(lambda x: datetime.strptime(x, '%d.%m.%Y').strftime('%Y'))\n",
    "train_month = train[['date_block_num', 'month']]\n",
    "train_month.drop_duplicates(inplace= True)"
   ]
  },
  {
   "cell_type": "markdown",
   "metadata": {},
   "source": [
    "#### Add bank holiday information"
   ]
  },
  {
   "cell_type": "markdown",
   "metadata": {},
   "source": [
    "January in particular has many public holidays in Russia. It would be interesting to look into whether this has any impact on sales."
   ]
  },
  {
   "cell_type": "code",
   "execution_count": 19,
   "metadata": {},
   "outputs": [],
   "source": [
    "hol_dates = []\n",
    "for date in holidays.Russia(years = [2013,2014,2015]).items():\n",
    "    hol_dates.append(str(date[0]))"
   ]
  },
  {
   "cell_type": "markdown",
   "metadata": {},
   "source": [
    "Change to group by the hol months to month and count. Then join this information onto train set by month and year. "
   ]
  },
  {
   "cell_type": "code",
   "execution_count": 20,
   "metadata": {},
   "outputs": [],
   "source": [
    "hol_dates = pd.DataFrame(hol_dates)"
   ]
  },
  {
   "cell_type": "code",
   "execution_count": 21,
   "metadata": {},
   "outputs": [],
   "source": [
    "hol_dates['month']=0\n",
    "hol_dates['year']=0\n",
    "hol_dates.rename(columns={0:'date'}, inplace = True)\n",
    "\n",
    "hol_dates['month'] = hol_dates.date.apply(lambda x: datetime.strptime(x, '%Y-%m-%d').strftime('%m'))\n",
    "hol_dates['year'] = hol_dates.date.apply(lambda x: datetime.strptime(x, '%Y-%m-%d').strftime('%Y'))\n",
    "\n",
    "hol_dates = hol_dates.groupby(['month', 'year']).count().reset_index()\n",
    "hol_dates.rename(columns = {'date':'hol_count'}, inplace=True)"
   ]
  },
  {
   "cell_type": "markdown",
   "metadata": {},
   "source": [
    "This grid has created a combination of all shop and item combinations (regardless of it they were sold by that shop). "
   ]
  },
  {
   "cell_type": "code",
   "execution_count": 25,
   "metadata": {},
   "outputs": [],
   "source": [
    "train = pd.merge(train, hol_dates, on=['month', 'year'], how='left')\n",
    "\n",
    "train_hol = train[['date_block_num', 'hol_count']]\n",
    "train_hol.drop_duplicates(inplace= True)\n",
    "\n",
    "train_hol['hol_count'] = train_hol.hol_count.fillna(0)\n",
    "\n",
    "grid = pd.merge(grid, train_month, on=['date_block_num'], how='left')\n",
    "grid = pd.merge(grid, train_hol, on=['date_block_num'], how='left')"
   ]
  },
  {
   "cell_type": "markdown",
   "metadata": {},
   "source": [
    "### 4. Join the test set"
   ]
  },
  {
   "cell_type": "markdown",
   "metadata": {},
   "source": [
    "From some analysis of the test set, there are 42 shops, all with 5100 items. Which equates to the 214200 rows of data in the test set. The train set only contains sales or items that were returned so it needs to include items that did not generate any sale. This can be done by looking at unique pairs of shop_ids and item_ids per month. "
   ]
  },
  {
   "cell_type": "code",
   "execution_count": 31,
   "metadata": {},
   "outputs": [],
   "source": [
    "test['date_block_num'] = 34\n",
    "test['month'] = 11\n",
    "test['hol_count'] = 1\n",
    "\n",
    "test['date_block_num'] = test['date_block_num'].astype(np.int8)\n",
    "test['shop_id'] = test['shop_id'].astype(np.int8)\n",
    "test['item_id'] = test['item_id'].astype(np.int16)"
   ]
  },
  {
   "cell_type": "code",
   "execution_count": 33,
   "metadata": {},
   "outputs": [
    {
     "data": {
      "text/plain": [
       "0.9922201633453369"
      ]
     },
     "execution_count": 33,
     "metadata": {},
     "output_type": "execute_result"
    }
   ],
   "source": [
    "ts = time.time()\n",
    "grid = pd.concat([grid, test], ignore_index=True, sort=False, keys=['date_block_num', 'shop_id', 'item_id', 'month', 'hol_count'])\n",
    "grid.fillna(0, inplace=True) # 34 month\n",
    "time.time() - ts"
   ]
  },
  {
   "cell_type": "code",
   "execution_count": 34,
   "metadata": {},
   "outputs": [],
   "source": [
    "pd.concat([grid, test], ignore_index=True, sort=False, keys=['date_block_num', 'shop_id', 'item_id'])\n",
    "grid.drop(columns='ID', inplace=True)"
   ]
  },
  {
   "cell_type": "markdown",
   "metadata": {},
   "source": [
    "### 5. Join shop, city and item information"
   ]
  },
  {
   "cell_type": "markdown",
   "metadata": {},
   "source": [
    "The features created in (2) are now joined onto the grid created."
   ]
  },
  {
   "cell_type": "code",
   "execution_count": 38,
   "metadata": {},
   "outputs": [
    {
     "data": {
      "text/plain": [
       "6.146758556365967"
      ]
     },
     "execution_count": 38,
     "metadata": {},
     "output_type": "execute_result"
    }
   ],
   "source": [
    "ts = time.time()\n",
    "grid = pd.merge(grid, shops, on=['shop_id'], how='left')\n",
    "grid = pd.merge(grid, items, on=['item_id'], how='left')\n",
    "grid = pd.merge(grid, item_cats, on=['item_category_id'], how='left')\n",
    "grid['city_code'] = grid['city_code'].astype(np.int8)\n",
    "grid['item_category_id'] = grid['item_category_id'].astype(np.int8)\n",
    "grid['type_code'] = grid['type_code'].astype(np.int8)\n",
    "grid['subtype_code'] = grid['subtype_code'].astype(np.int8)\n",
    "time.time() - ts"
   ]
  },
  {
   "cell_type": "markdown",
   "metadata": {},
   "source": [
    "### Add price to grid"
   ]
  },
  {
   "cell_type": "code",
   "execution_count": 40,
   "metadata": {},
   "outputs": [],
   "source": [
    "grouped_price = train.groupby(['date_block_num', 'shop_id', 'item_id']).agg({'item_price': ['mean']}).reset_index()\n",
    "grid = pd.merge(grid, grouped_price, how='left', on=['date_block_num', 'shop_id', 'item_id'])\n",
    "grid.rename(columns={'(item_price, mean)':'item_price'},inplace=True)\n",
    "grid.rename(columns={('item_price', 'mean'): 'item_price'}, inplace=True)\n",
    "grid['item_price'] = grid['item_price'].fillna(-1)"
   ]
  },
  {
   "cell_type": "markdown",
   "metadata": {},
   "source": [
    "### 6. Lagged variables and mean encoding"
   ]
  },
  {
   "cell_type": "markdown",
   "metadata": {},
   "source": [
    "The majority of the features that will help to predict future sales will be historical sales history. This will done through:\n",
    "- Lagged features for sales, item price or revenue\n",
    "- Mean encoded sales relating to a combination of features such as shop, item, item cateogry, item type etc."
   ]
  },
  {
   "cell_type": "markdown",
   "metadata": {},
   "source": [
    "#### Function for making lags shop & specific variable"
   ]
  },
  {
   "cell_type": "code",
   "execution_count": 6,
   "metadata": {},
   "outputs": [],
   "source": [
    "def lags(df, lags, col):\n",
    "    temp = df[['date_block_num', 'shop_id', 'item_id', col]]\n",
    "    for i in lags:\n",
    "        lagged = temp.copy()\n",
    "        lagged['date_block_num'] += i\n",
    "        lagged.columns = ['date_block_num', 'shop_id', 'item_id', col + '_prev_' + str(i)]\n",
    "        df = pd.merge(df, lagged, on=['date_block_num', 'shop_id', 'item_id'], how='left')\n",
    "    return df"
   ]
  },
  {
   "cell_type": "code",
   "execution_count": 7,
   "metadata": {},
   "outputs": [],
   "source": [
    "def lag_shop_type(df, lags, col):\n",
    "    temp = df[['date_block_num', 'shop_id', 'type_code', col]]\n",
    "    for i in lags:\n",
    "        lagged = temp.copy()\n",
    "        lagged['date_block_num'] += i\n",
    "        lagged.columns = ['date_block_num', 'shop_id', 'type_code', col + '_prev_' + str(i)]\n",
    "        df = pd.merge(df, lagged, on=['date_block_num', 'shop_id', 'type_code'], how='left')\n",
    "    return df"
   ]
  },
  {
   "cell_type": "code",
   "execution_count": 8,
   "metadata": {},
   "outputs": [],
   "source": [
    "def lag_shop_subtype(df, lags, col):\n",
    "    temp = df[['date_block_num', 'shop_id', 'subtype_code', col]]\n",
    "    for i in lags:\n",
    "        lagged = temp.copy()\n",
    "        lagged['date_block_num'] += i\n",
    "        lagged.columns = ['date_block_num', 'shop_id', 'subtype_code', col + '_prev_' + str(i)]\n",
    "        df = pd.merge(df, lagged, on=['date_block_num', 'shop_id', 'subtype_code'], how='left')\n",
    "    return df"
   ]
  },
  {
   "cell_type": "markdown",
   "metadata": {},
   "source": [
    "#### Functions for making specific variable lag"
   ]
  },
  {
   "cell_type": "code",
   "execution_count": 9,
   "metadata": {},
   "outputs": [],
   "source": [
    "def lag_shop(df, lags, col):\n",
    "    temp = df[['date_block_num', 'shop_id', col]]\n",
    "    for i in lags:\n",
    "        lagged = temp.copy()\n",
    "        lagged['date_block_num'] += i\n",
    "        lagged.columns = ['date_block_num', 'shop_id', 'item_id', col + '_prev_' + str(i)]\n",
    "        df = pd.merge(df, lagged, on=['date_block_num', 'shop_id'], how='left')\n",
    "    return df"
   ]
  },
  {
   "cell_type": "code",
   "execution_count": 10,
   "metadata": {},
   "outputs": [],
   "source": [
    "def lag_item(df, lags, col):\n",
    "    temp = df[['date_block_num', 'item_id', col]]\n",
    "    for i in lags:\n",
    "        lagged = temp.copy()\n",
    "        lagged['date_block_num'] += i\n",
    "        lagged.columns = ['date_block_num', 'item_id', col + '_prev_' + str(i)]\n",
    "        df = pd.merge(df, lagged, on=['date_block_num', 'item_id'], how='left')\n",
    "    return df"
   ]
  },
  {
   "cell_type": "code",
   "execution_count": 11,
   "metadata": {},
   "outputs": [],
   "source": [
    "def lag_type(df, lags, col):\n",
    "    temp = df[['date_block_num', 'type_code', col]]\n",
    "    for i in lags:\n",
    "        lagged = temp.copy()\n",
    "        lagged['date_block_num'] += i\n",
    "        lagged.columns = ['date_block_num', 'type_code', col + '_prev_' + str(i)]\n",
    "        df = pd.merge(df, lagged, on=['date_block_num', 'type_code'], how='left')\n",
    "    return df"
   ]
  },
  {
   "cell_type": "code",
   "execution_count": 12,
   "metadata": {},
   "outputs": [],
   "source": [
    "def lag_Subtype(df, lags, col):\n",
    "    temp = df[['date_block_num', 'subtype_code', col]]\n",
    "    for i in lags:\n",
    "        lagged = temp.copy()\n",
    "        lagged['date_block_num'] += i\n",
    "        lagged.columns = ['date_block_num', 'subtype_code', col + '_prev_' + str(i)]\n",
    "        df = pd.merge(df, lagged, on=['date_block_num', 'subtype_code'], how='left')\n",
    "    return df"
   ]
  },
  {
   "cell_type": "markdown",
   "metadata": {},
   "source": [
    "### a. 1,2,6,12 months lagged sales."
   ]
  },
  {
   "cell_type": "code",
   "execution_count": 13,
   "metadata": {},
   "outputs": [],
   "source": [
    "grid = lags(grid, [1,2,6,12], col='item_cnt_month')"
   ]
  },
  {
   "cell_type": "markdown",
   "metadata": {},
   "source": [
    "### b. 1,2,6,12 months lagged item price"
   ]
  },
  {
   "cell_type": "code",
   "execution_count": 14,
   "metadata": {},
   "outputs": [],
   "source": [
    "grid = lags(grid, [1,2,6,12], col='item_price')"
   ]
  },
  {
   "cell_type": "markdown",
   "metadata": {},
   "source": [
    "#### Last month shop revenue"
   ]
  },
  {
   "cell_type": "code",
   "execution_count": 15,
   "metadata": {},
   "outputs": [],
   "source": [
    "grid['revenue'] =grid['item_price'] * grid['item_cnt_month']"
   ]
  },
  {
   "cell_type": "markdown",
   "metadata": {},
   "source": [
    "### c. 1,2,6,12 months lagged revenue"
   ]
  },
  {
   "cell_type": "code",
   "execution_count": 16,
   "metadata": {
    "scrolled": true
   },
   "outputs": [],
   "source": [
    "grid = lags(grid, [1,2,6,12], col='revenue')"
   ]
  },
  {
   "cell_type": "markdown",
   "metadata": {},
   "source": [
    "### Mean encoded item and shop price"
   ]
  },
  {
   "cell_type": "markdown",
   "metadata": {},
   "source": [
    "By calculating the mean item price for lagged months by shop and item id can be used to understand the difference between the price a shop charges for an item and what the mean was for that month. Shop that sell under the mean in theory should be seeing greater sales than those that don't? \n",
    "The same logic is used for the shop price. Are there certain items that are a greater distance away from the shop's item mean price. If so those items may or may not sell so frequently."
   ]
  },
  {
   "cell_type": "markdown",
   "metadata": {},
   "source": [
    "### d. 1,2,6,12 months item price"
   ]
  },
  {
   "cell_type": "code",
   "execution_count": 17,
   "metadata": {},
   "outputs": [
    {
     "data": {
      "text/plain": [
       "48.39122128486633"
      ]
     },
     "execution_count": 17,
     "metadata": {},
     "output_type": "execute_result"
    }
   ],
   "source": [
    "ts = time.time()\n",
    "group = grid.groupby(['date_block_num', 'item_id']).agg({'item_price': ['mean']})\n",
    "group.columns = [ 'date_item_avg_item_price' ]\n",
    "group.reset_index(inplace=True)\n",
    "\n",
    "grid = pd.merge(grid, group, on=['date_block_num','item_id'], how='left')\n",
    "grid['date_item_avg_item_price'] = grid['date_item_avg_item_price'].astype(np.float16)\n",
    "grid = lags(grid, [1,2,6,12], 'date_item_avg_item_price')\n",
    "grid.drop(['date_item_avg_item_price'], axis=1, inplace=True)\n",
    "time.time() - ts"
   ]
  },
  {
   "cell_type": "markdown",
   "metadata": {},
   "source": [
    "### e. 1,2,6,12 months shop price"
   ]
  },
  {
   "cell_type": "code",
   "execution_count": 18,
   "metadata": {},
   "outputs": [
    {
     "data": {
      "text/plain": [
       "44.14887857437134"
      ]
     },
     "execution_count": 18,
     "metadata": {},
     "output_type": "execute_result"
    }
   ],
   "source": [
    "ts = time.time()\n",
    "group = grid.groupby(['date_block_num', 'shop_id']).agg({'item_price': ['mean']})\n",
    "group.columns = [ 'date_shop_avg_item_price' ]\n",
    "group.reset_index(inplace=True)\n",
    "\n",
    "grid = pd.merge(grid, group, on=['date_block_num','shop_id'], how='left')\n",
    "grid['date_shop_avg_item_price'] = grid['date_shop_avg_item_price'].astype(np.float16)\n",
    "grid = lags(grid, [1,2,6,12], 'date_shop_avg_item_price')\n",
    "grid.drop(['date_shop_avg_item_price'], axis=1, inplace=True)\n",
    "time.time() - ts"
   ]
  },
  {
   "cell_type": "code",
   "execution_count": 19,
   "metadata": {},
   "outputs": [],
   "source": [
    "grid = grid.fillna(0)"
   ]
  },
  {
   "cell_type": "markdown",
   "metadata": {},
   "source": [
    "Look at the difference between the mean item prices against each item and shop"
   ]
  },
  {
   "cell_type": "code",
   "execution_count": 21,
   "metadata": {},
   "outputs": [],
   "source": [
    "grid['item_price_item_diff_1'] = grid['item_price_prev_1'] - grid['date_item_avg_item_price_prev_1']\n",
    "grid['item_price_item_diff_2'] = grid['item_price_prev_2'] - grid['date_item_avg_item_price_prev_2']\n",
    "grid['item_price_item_diff_6'] = grid['item_price_prev_6'] - grid['date_item_avg_item_price_prev_6']\n",
    "grid['item_price_item_diff_12'] = grid['item_price_prev_12'] - grid['date_item_avg_item_price_prev_12']\n",
    "\n",
    "grid['item_price_shop_diff_1'] = grid['item_price_prev_1'] - grid['date_shop_avg_item_price_prev_1']\n",
    "grid['item_price_shop_diff_2'] = grid['item_price_prev_2'] - grid['date_shop_avg_item_price_prev_2']\n",
    "grid['item_price_shop_diff_6'] = grid['item_price_prev_6'] - grid['date_shop_avg_item_price_prev_6']\n",
    "grid['item_price_shop_diff_12'] = grid['item_price_prev_12'] - grid['date_shop_avg_item_price_prev_12']"
   ]
  },
  {
   "cell_type": "markdown",
   "metadata": {},
   "source": [
    "## Target (Item Sales) Mean Encoding"
   ]
  },
  {
   "cell_type": "markdown",
   "metadata": {},
   "source": [
    "### f. 1,2,6,12 month mean encoded sales"
   ]
  },
  {
   "cell_type": "code",
   "execution_count": 22,
   "metadata": {},
   "outputs": [
    {
     "data": {
      "text/plain": [
       "69.70149111747742"
      ]
     },
     "execution_count": 22,
     "metadata": {},
     "output_type": "execute_result"
    }
   ],
   "source": [
    "ts = time.time()\n",
    "group = grid.groupby(['date_block_num']).agg({'item_cnt_month': ['mean']})\n",
    "group.columns = [ 'date_avg_item_cnt' ]\n",
    "group.reset_index(inplace=True)\n",
    "\n",
    "grid = pd.merge(grid, group, on=['date_block_num'], how='left')\n",
    "grid['date_avg_item_cnt'] = grid['date_avg_item_cnt'].astype(np.float16)\n",
    "grid = lags(grid, [1,2,6,12], 'date_avg_item_cnt')\n",
    "grid.drop(['date_avg_item_cnt'], axis=1, inplace=True)\n",
    "time.time() - ts"
   ]
  },
  {
   "cell_type": "markdown",
   "metadata": {},
   "source": [
    "### g. 1,2,6,12 month shop/item mean encoded sales"
   ]
  },
  {
   "cell_type": "code",
   "execution_count": 23,
   "metadata": {
    "scrolled": true
   },
   "outputs": [
    {
     "data": {
      "text/plain": [
       "75.65330862998962"
      ]
     },
     "execution_count": 23,
     "metadata": {},
     "output_type": "execute_result"
    }
   ],
   "source": [
    "ts = time.time()\n",
    "group = grid.groupby(['date_block_num', 'shop_id', 'item_id']).agg({'item_cnt_month': ['mean']})\n",
    "group.columns = [ 'date_shop_item_avg_item_cnt' ]\n",
    "group.reset_index(inplace=True)\n",
    "\n",
    "grid = pd.merge(grid, group, on=['date_block_num', 'shop_id','item_id'], how='left')\n",
    "grid['date_shop_item_avg_item_cnt'] = grid['date_shop_item_avg_item_cnt'].astype(np.float16)\n",
    "grid = lags(grid, [1,2,6,12], 'date_shop_item_avg_item_cnt')\n",
    "grid.drop(['date_shop_item_avg_item_cnt'], axis=1, inplace=True)\n",
    "time.time() - ts"
   ]
  },
  {
   "cell_type": "markdown",
   "metadata": {},
   "source": [
    "### h. 1,2,6,12 month item mean encoded sales"
   ]
  },
  {
   "cell_type": "code",
   "execution_count": 24,
   "metadata": {},
   "outputs": [
    {
     "data": {
      "text/plain": [
       "68.71035647392273"
      ]
     },
     "execution_count": 24,
     "metadata": {},
     "output_type": "execute_result"
    }
   ],
   "source": [
    "ts = time.time()\n",
    "group = grid.groupby(['date_block_num', 'item_id']).agg({'item_cnt_month': ['mean']})\n",
    "group.columns = [ 'date_item_avg_item_cnt' ]\n",
    "group.reset_index(inplace=True)\n",
    "\n",
    "grid = pd.merge(grid, group, on=['date_block_num','item_id'], how='left')\n",
    "grid['date_item_avg_item_cnt'] = grid['date_item_avg_item_cnt'].astype(np.float16)\n",
    "grid = lags(grid, [1,6,12], 'date_item_avg_item_cnt')\n",
    "grid.drop(['date_item_avg_item_cnt'], axis=1, inplace=True)\n",
    "time.time() - ts"
   ]
  },
  {
   "cell_type": "markdown",
   "metadata": {},
   "source": [
    "### i. 1,2,6,12 month mean encoded sales"
   ]
  },
  {
   "cell_type": "code",
   "execution_count": 25,
   "metadata": {},
   "outputs": [
    {
     "data": {
      "text/plain": [
       "69.6714780330658"
      ]
     },
     "execution_count": 25,
     "metadata": {},
     "output_type": "execute_result"
    }
   ],
   "source": [
    "ts = time.time()\n",
    "group = grid.groupby(['date_block_num', 'shop_id']).agg({'item_cnt_month': ['mean']})\n",
    "group.columns = [ 'date_shop_avg_item_cnt' ]\n",
    "group.reset_index(inplace=True)\n",
    "\n",
    "grid = pd.merge(grid, group, on=['date_block_num','shop_id'], how='left')\n",
    "grid['date_shop_avg_item_cnt'] = grid['date_shop_avg_item_cnt'].astype(np.float16)\n",
    "grid = lags(grid, [1,2,6,12], 'date_shop_avg_item_cnt')\n",
    "grid.drop(['date_shop_avg_item_cnt'], axis=1, inplace=True)\n",
    "time.time() - ts"
   ]
  },
  {
   "cell_type": "markdown",
   "metadata": {},
   "source": [
    "### j. 1,2,6,12 month item category mean encoded sales"
   ]
  },
  {
   "cell_type": "code",
   "execution_count": 26,
   "metadata": {},
   "outputs": [
    {
     "data": {
      "text/plain": [
       "82.00425457954407"
      ]
     },
     "execution_count": 26,
     "metadata": {},
     "output_type": "execute_result"
    }
   ],
   "source": [
    "ts = time.time()\n",
    "group = grid.groupby(['date_block_num', 'item_category_id']).agg({'item_cnt_month': ['mean']})\n",
    "group.columns = [ 'date_cat_avg_item_cnt' ]\n",
    "group.reset_index(inplace=True)\n",
    "\n",
    "grid = pd.merge(grid, group, on=['date_block_num','item_category_id'], how='left')\n",
    "grid['date_cat_avg_item_cnt'] = grid['date_cat_avg_item_cnt'].astype(np.float16)\n",
    "grid = lags(grid, [1,2,6,12], 'date_cat_avg_item_cnt')\n",
    "grid.drop(['date_cat_avg_item_cnt'], axis=1, inplace=True)\n",
    "time.time() - ts"
   ]
  },
  {
   "cell_type": "markdown",
   "metadata": {},
   "source": [
    "### k. 1,2,6,12 month shop &item category mean encoded sales"
   ]
  },
  {
   "cell_type": "code",
   "execution_count": 27,
   "metadata": {},
   "outputs": [
    {
     "data": {
      "text/plain": [
       "82.66957426071167"
      ]
     },
     "execution_count": 27,
     "metadata": {},
     "output_type": "execute_result"
    }
   ],
   "source": [
    "ts = time.time()\n",
    "group = grid.groupby(['date_block_num', 'shop_id', 'item_category_id']).agg({'item_cnt_month': ['mean']})\n",
    "group.columns = ['date_shop_cat_avg_item_cnt']\n",
    "group.reset_index(inplace=True)\n",
    "\n",
    "grid = pd.merge(grid, group, on=['date_block_num', 'shop_id', 'item_category_id'], how='left')\n",
    "grid['date_shop_cat_avg_item_cnt'] = grid['date_shop_cat_avg_item_cnt'].astype(np.float16)\n",
    "grid = lags(grid, [1,2,6,12], 'date_shop_cat_avg_item_cnt')\n",
    "grid.drop(['date_shop_cat_avg_item_cnt'], axis=1, inplace=True)\n",
    "time.time() - ts"
   ]
  },
  {
   "cell_type": "markdown",
   "metadata": {},
   "source": [
    "### l. 1,2,6,12 month shop & item type mean encoded sales"
   ]
  },
  {
   "cell_type": "code",
   "execution_count": 28,
   "metadata": {},
   "outputs": [
    {
     "data": {
      "text/plain": [
       "78.89294576644897"
      ]
     },
     "execution_count": 28,
     "metadata": {},
     "output_type": "execute_result"
    }
   ],
   "source": [
    "ts = time.time()\n",
    "group = grid.groupby(['date_block_num', 'shop_id', 'type_code']).agg({'item_cnt_month': ['mean']})\n",
    "group.columns = ['date_shop_type_avg_item_cnt']\n",
    "group.reset_index(inplace=True)\n",
    "\n",
    "grid = pd.merge(grid, group, on=['date_block_num', 'shop_id', 'type_code'], how='left')\n",
    "grid['date_shop_type_avg_item_cnt'] = grid['date_shop_type_avg_item_cnt'].astype(np.float16)\n",
    "grid = lags(grid, [1,2,6,12], 'date_shop_type_avg_item_cnt')\n",
    "grid.drop(['date_shop_type_avg_item_cnt'], axis=1, inplace=True)\n",
    "time.time() - ts"
   ]
  },
  {
   "cell_type": "markdown",
   "metadata": {},
   "source": [
    "### m. 1,2,6,12 month shop & item sub type mean encoded sales"
   ]
  },
  {
   "cell_type": "code",
   "execution_count": 29,
   "metadata": {},
   "outputs": [
    {
     "data": {
      "text/plain": [
       "85.96769547462463"
      ]
     },
     "execution_count": 29,
     "metadata": {},
     "output_type": "execute_result"
    }
   ],
   "source": [
    "ts = time.time()\n",
    "group = grid.groupby(['date_block_num', 'shop_id', 'subtype_code']).agg({'item_cnt_month': ['mean']})\n",
    "group.columns = ['date_shop_subtype_avg_item_cnt']\n",
    "group.reset_index(inplace=True)\n",
    "\n",
    "grid = pd.merge(grid, group, on=['date_block_num', 'shop_id', 'subtype_code'], how='left')\n",
    "grid['date_shop_subtype_avg_item_cnt'] = grid['date_shop_subtype_avg_item_cnt'].astype(np.float16)\n",
    "grid = lags(grid, [1,2,6,12], 'date_shop_subtype_avg_item_cnt')\n",
    "grid.drop(['date_shop_subtype_avg_item_cnt'], axis=1, inplace=True)\n",
    "time.time() - ts"
   ]
  },
  {
   "cell_type": "markdown",
   "metadata": {},
   "source": [
    "### n. 1,2,6,12 month city mean encoded sales"
   ]
  },
  {
   "cell_type": "code",
   "execution_count": 30,
   "metadata": {},
   "outputs": [
    {
     "data": {
      "text/plain": [
       "86.19837760925293"
      ]
     },
     "execution_count": 30,
     "metadata": {},
     "output_type": "execute_result"
    }
   ],
   "source": [
    "ts = time.time()\n",
    "group = grid.groupby(['date_block_num', 'city_code']).agg({'item_cnt_month': ['mean']})\n",
    "group.columns = [ 'date_city_avg_item_cnt' ]\n",
    "group.reset_index(inplace=True)\n",
    "\n",
    "grid = pd.merge(grid, group, on=['date_block_num', 'city_code'], how='left')\n",
    "grid['date_city_avg_item_cnt'] = grid['date_city_avg_item_cnt'].astype(np.float16)\n",
    "grid = lags(grid, [1,2,6,12], 'date_city_avg_item_cnt')\n",
    "grid.drop(['date_city_avg_item_cnt'], axis=1, inplace=True)\n",
    "time.time() - ts"
   ]
  },
  {
   "cell_type": "markdown",
   "metadata": {},
   "source": [
    "### o. 1,2,6,12 month item & city mean encoded sales"
   ]
  },
  {
   "cell_type": "code",
   "execution_count": 31,
   "metadata": {},
   "outputs": [
    {
     "data": {
      "text/plain": [
       "101.65621542930603"
      ]
     },
     "execution_count": 31,
     "metadata": {},
     "output_type": "execute_result"
    }
   ],
   "source": [
    "ts = time.time()\n",
    "group = grid.groupby(['date_block_num', 'item_id', 'city_code']).agg({'item_cnt_month': ['mean']})\n",
    "group.columns = [ 'date_item_city_avg_item_cnt' ]\n",
    "group.reset_index(inplace=True)\n",
    "\n",
    "grid = pd.merge(grid, group, on=['date_block_num', 'item_id', 'city_code'], how='left')\n",
    "grid['date_item_city_avg_item_cnt'] = grid['date_item_city_avg_item_cnt'].astype(np.float16)\n",
    "grid = lags(grid, [1,2,6,12], 'date_item_city_avg_item_cnt')\n",
    "grid.drop(['date_item_city_avg_item_cnt'], axis=1, inplace=True)\n",
    "time.time() - ts"
   ]
  },
  {
   "cell_type": "markdown",
   "metadata": {},
   "source": [
    "### p. 1,2,6,12 month item type mean encoded sales"
   ]
  },
  {
   "cell_type": "code",
   "execution_count": 32,
   "metadata": {},
   "outputs": [
    {
     "data": {
      "text/plain": [
       "101.56162285804749"
      ]
     },
     "execution_count": 32,
     "metadata": {},
     "output_type": "execute_result"
    }
   ],
   "source": [
    "ts = time.time()\n",
    "group = grid.groupby(['date_block_num', 'type_code']).agg({'item_cnt_month': ['mean']})\n",
    "group.columns = [ 'date_type_avg_item_cnt' ]\n",
    "group.reset_index(inplace=True)\n",
    "\n",
    "grid = pd.merge(grid, group, on=['date_block_num', 'type_code'], how='left')\n",
    "grid['date_type_avg_item_cnt'] = grid['date_type_avg_item_cnt'].astype(np.float16)\n",
    "grid = lags(grid, [1,2,6,12], 'date_type_avg_item_cnt')\n",
    "grid.drop(['date_type_avg_item_cnt'], axis=1, inplace=True)\n",
    "time.time() - ts"
   ]
  },
  {
   "cell_type": "markdown",
   "metadata": {},
   "source": [
    "### q. 1,2,6,12 month item sub type mean encoded sales"
   ]
  },
  {
   "cell_type": "code",
   "execution_count": 33,
   "metadata": {},
   "outputs": [
    {
     "data": {
      "text/plain": [
       "94.84383964538574"
      ]
     },
     "execution_count": 33,
     "metadata": {},
     "output_type": "execute_result"
    }
   ],
   "source": [
    "ts = time.time()\n",
    "group = grid.groupby(['date_block_num', 'subtype_code']).agg({'item_cnt_month': ['mean']})\n",
    "group.columns = [ 'date_subtype_avg_item_cnt' ]\n",
    "group.reset_index(inplace=True)\n",
    "\n",
    "grid = pd.merge(grid, group, on=['date_block_num', 'subtype_code'], how='left')\n",
    "grid['date_subtype_avg_item_cnt'] = grid['date_subtype_avg_item_cnt'].astype(np.float16)\n",
    "grid = lags(grid, [1,2,6,12], 'date_subtype_avg_item_cnt')\n",
    "grid.drop(['date_subtype_avg_item_cnt'], axis=1, inplace=True)\n",
    "time.time() - ts"
   ]
  },
  {
   "cell_type": "markdown",
   "metadata": {},
   "source": [
    "### 7. Days in a month"
   ]
  },
  {
   "cell_type": "markdown",
   "metadata": {},
   "source": [
    "The target variable for this problem is the sale per month. Therefore months with a greater number of days should see more sales than those with less."
   ]
  },
  {
   "cell_type": "code",
   "execution_count": 35,
   "metadata": {},
   "outputs": [],
   "source": [
    "day_month = pd.DataFrame({'month':[1,2,3,4,5,6,7,8,9,10,11,12], 'days':[31,28,31,30,31,30,31,31,30,31,30,31]})\n",
    "grid = pd.merge(grid, day_month, how='left', on=['month'])"
   ]
  },
  {
   "cell_type": "markdown",
   "metadata": {},
   "source": [
    "### 8. Last and first month of sales"
   ]
  },
  {
   "cell_type": "markdown",
   "metadata": {},
   "source": [
    "### a. Last month of Shop / Item sale"
   ]
  },
  {
   "cell_type": "code",
   "execution_count": 37,
   "metadata": {},
   "outputs": [],
   "source": [
    "test['date_block_num'] = 34\n",
    "train_shift = train[['shop_id', 'item_id', 'date_block_num', 'item_cnt_day']].copy()\n",
    "train_shift = train_shift[train_shift.item_cnt_day > 0]\n",
    "train_shift = pd.concat([train_shift[['shop_id', 'item_id', 'date_block_num']], test[['shop_id', 'item_id', 'date_block_num']]], axis=0)"
   ]
  },
  {
   "cell_type": "code",
   "execution_count": 41,
   "metadata": {},
   "outputs": [],
   "source": [
    "train_1 = train_shift[['shop_id', 'item_id', 'date_block_num']].sort_values(by=['shop_id', 'item_id', 'date_block_num'], ascending=True)\n",
    "train_1 = train_1.drop_duplicates()\n",
    "train_group = pd.DataFrame(train_1.groupby(['shop_id', 'item_id']).shift(periods=1))\n",
    "train_group.rename(columns={'date_block_num':'date_prev_shop'}, inplace=True)\n",
    "train_shop = pd.concat([train_1, train_group], axis=1)\n",
    "train_shop['date_diff_shop'] = train_shop.date_block_num - train_shop.date_prev_shop"
   ]
  },
  {
   "cell_type": "markdown",
   "metadata": {},
   "source": [
    "### b.Last month of sale of Item"
   ]
  },
  {
   "cell_type": "code",
   "execution_count": 42,
   "metadata": {},
   "outputs": [],
   "source": [
    "train_2 = train_shift[['item_id', 'date_block_num']].sort_values(by=['item_id', 'date_block_num'], ascending=True)\n",
    "train_2 = train_2.drop_duplicates()\n",
    "train_group = pd.DataFrame(train_2.groupby(['item_id']).shift(periods=1))\n",
    "train_group.rename(columns={'date_block_num':'date_prev_item'}, inplace=True)\n",
    "train_item = pd.concat([train_2, train_group], axis=1)\n",
    "train_item['date_diff_item'] = train_item.date_block_num - train_item.date_prev_item"
   ]
  },
  {
   "cell_type": "code",
   "execution_count": 44,
   "metadata": {},
   "outputs": [],
   "source": [
    "grid = pd.merge(grid,train_shop,how='left',on=['shop_id', 'item_id', 'date_block_num'])\n",
    "grid = pd.merge(grid,train_item,how='left',on=['item_id', 'date_block_num'])"
   ]
  },
  {
   "cell_type": "code",
   "execution_count": 48,
   "metadata": {},
   "outputs": [],
   "source": [
    "pd.options.display.max_rows = 500"
   ]
  },
  {
   "cell_type": "markdown",
   "metadata": {},
   "source": [
    "#### Missing values check"
   ]
  },
  {
   "cell_type": "code",
   "execution_count": 49,
   "metadata": {
    "scrolled": true
   },
   "outputs": [
    {
     "data": {
      "text/html": [
       "<div>\n",
       "<style scoped>\n",
       "    .dataframe tbody tr th:only-of-type {\n",
       "        vertical-align: middle;\n",
       "    }\n",
       "\n",
       "    .dataframe tbody tr th {\n",
       "        vertical-align: top;\n",
       "    }\n",
       "\n",
       "    .dataframe thead th {\n",
       "        text-align: right;\n",
       "    }\n",
       "</style>\n",
       "<table border=\"1\" class=\"dataframe\">\n",
       "  <thead>\n",
       "    <tr style=\"text-align: right;\">\n",
       "      <th></th>\n",
       "      <th>Missing Values</th>\n",
       "    </tr>\n",
       "  </thead>\n",
       "  <tbody>\n",
       "    <tr>\n",
       "      <th>date_block_num</th>\n",
       "      <td>0</td>\n",
       "    </tr>\n",
       "    <tr>\n",
       "      <th>shop_id</th>\n",
       "      <td>0</td>\n",
       "    </tr>\n",
       "    <tr>\n",
       "      <th>item_id</th>\n",
       "      <td>0</td>\n",
       "    </tr>\n",
       "    <tr>\n",
       "      <th>item_cnt_month</th>\n",
       "      <td>0</td>\n",
       "    </tr>\n",
       "    <tr>\n",
       "      <th>month</th>\n",
       "      <td>0</td>\n",
       "    </tr>\n",
       "    <tr>\n",
       "      <th>hol_count</th>\n",
       "      <td>0</td>\n",
       "    </tr>\n",
       "    <tr>\n",
       "      <th>city_code</th>\n",
       "      <td>0</td>\n",
       "    </tr>\n",
       "    <tr>\n",
       "      <th>item_category_id</th>\n",
       "      <td>0</td>\n",
       "    </tr>\n",
       "    <tr>\n",
       "      <th>type_code</th>\n",
       "      <td>0</td>\n",
       "    </tr>\n",
       "    <tr>\n",
       "      <th>subtype_code</th>\n",
       "      <td>0</td>\n",
       "    </tr>\n",
       "    <tr>\n",
       "      <th>item_price</th>\n",
       "      <td>0</td>\n",
       "    </tr>\n",
       "    <tr>\n",
       "      <th>item_cnt_month_prev_1</th>\n",
       "      <td>0</td>\n",
       "    </tr>\n",
       "    <tr>\n",
       "      <th>item_cnt_month_prev_2</th>\n",
       "      <td>0</td>\n",
       "    </tr>\n",
       "    <tr>\n",
       "      <th>item_cnt_month_prev_3</th>\n",
       "      <td>0</td>\n",
       "    </tr>\n",
       "    <tr>\n",
       "      <th>item_cnt_month_prev_6</th>\n",
       "      <td>0</td>\n",
       "    </tr>\n",
       "    <tr>\n",
       "      <th>item_cnt_month_prev_12</th>\n",
       "      <td>0</td>\n",
       "    </tr>\n",
       "    <tr>\n",
       "      <th>item_price_prev_1</th>\n",
       "      <td>0</td>\n",
       "    </tr>\n",
       "    <tr>\n",
       "      <th>item_price_prev_2</th>\n",
       "      <td>0</td>\n",
       "    </tr>\n",
       "    <tr>\n",
       "      <th>item_price_prev_3</th>\n",
       "      <td>0</td>\n",
       "    </tr>\n",
       "    <tr>\n",
       "      <th>item_price_prev_6</th>\n",
       "      <td>0</td>\n",
       "    </tr>\n",
       "    <tr>\n",
       "      <th>item_price_prev_12</th>\n",
       "      <td>0</td>\n",
       "    </tr>\n",
       "    <tr>\n",
       "      <th>revenue</th>\n",
       "      <td>0</td>\n",
       "    </tr>\n",
       "    <tr>\n",
       "      <th>revenue_prev_1</th>\n",
       "      <td>0</td>\n",
       "    </tr>\n",
       "    <tr>\n",
       "      <th>date_item_avg_item_price_prev_1</th>\n",
       "      <td>0</td>\n",
       "    </tr>\n",
       "    <tr>\n",
       "      <th>date_item_avg_item_price_prev_6</th>\n",
       "      <td>0</td>\n",
       "    </tr>\n",
       "    <tr>\n",
       "      <th>date_item_avg_item_price_prev_12</th>\n",
       "      <td>0</td>\n",
       "    </tr>\n",
       "    <tr>\n",
       "      <th>date_shop_avg_item_price_prev_1</th>\n",
       "      <td>0</td>\n",
       "    </tr>\n",
       "    <tr>\n",
       "      <th>date_shop_avg_item_price_prev_6</th>\n",
       "      <td>0</td>\n",
       "    </tr>\n",
       "    <tr>\n",
       "      <th>date_shop_avg_item_price_prev_12</th>\n",
       "      <td>0</td>\n",
       "    </tr>\n",
       "    <tr>\n",
       "      <th>item_price_item_diff_1</th>\n",
       "      <td>0</td>\n",
       "    </tr>\n",
       "    <tr>\n",
       "      <th>item_price_item_diff_6</th>\n",
       "      <td>0</td>\n",
       "    </tr>\n",
       "    <tr>\n",
       "      <th>item_price_item_diff_12</th>\n",
       "      <td>0</td>\n",
       "    </tr>\n",
       "    <tr>\n",
       "      <th>item_price_shop_diff_1</th>\n",
       "      <td>0</td>\n",
       "    </tr>\n",
       "    <tr>\n",
       "      <th>item_price_shop_diff_6</th>\n",
       "      <td>0</td>\n",
       "    </tr>\n",
       "    <tr>\n",
       "      <th>item_price_shop_diff_12</th>\n",
       "      <td>0</td>\n",
       "    </tr>\n",
       "    <tr>\n",
       "      <th>date_avg_item_cnt_prev_1</th>\n",
       "      <td>2498861</td>\n",
       "    </tr>\n",
       "    <tr>\n",
       "      <th>date_avg_item_cnt_prev_6</th>\n",
       "      <td>5385743</td>\n",
       "    </tr>\n",
       "    <tr>\n",
       "      <th>date_avg_item_cnt_prev_12</th>\n",
       "      <td>7988462</td>\n",
       "    </tr>\n",
       "    <tr>\n",
       "      <th>date_shop_item_avg_item_cnt_prev_1</th>\n",
       "      <td>2498861</td>\n",
       "    </tr>\n",
       "    <tr>\n",
       "      <th>date_shop_item_avg_item_cnt_prev_6</th>\n",
       "      <td>5385743</td>\n",
       "    </tr>\n",
       "    <tr>\n",
       "      <th>date_shop_item_avg_item_cnt_prev_12</th>\n",
       "      <td>7988462</td>\n",
       "    </tr>\n",
       "    <tr>\n",
       "      <th>date_item_avg_item_cnt_prev_1</th>\n",
       "      <td>2498861</td>\n",
       "    </tr>\n",
       "    <tr>\n",
       "      <th>date_item_avg_item_cnt_prev_6</th>\n",
       "      <td>5385743</td>\n",
       "    </tr>\n",
       "    <tr>\n",
       "      <th>date_item_avg_item_cnt_prev_12</th>\n",
       "      <td>7988462</td>\n",
       "    </tr>\n",
       "    <tr>\n",
       "      <th>date_shop_avg_item_cnt_prev_1</th>\n",
       "      <td>2498861</td>\n",
       "    </tr>\n",
       "    <tr>\n",
       "      <th>date_shop_avg_item_cnt_prev_6</th>\n",
       "      <td>5385743</td>\n",
       "    </tr>\n",
       "    <tr>\n",
       "      <th>date_shop_avg_item_cnt_prev_12</th>\n",
       "      <td>7988462</td>\n",
       "    </tr>\n",
       "    <tr>\n",
       "      <th>date_cat_avg_item_cnt_prev_1</th>\n",
       "      <td>2498861</td>\n",
       "    </tr>\n",
       "    <tr>\n",
       "      <th>date_cat_avg_item_cnt_prev_6</th>\n",
       "      <td>5385743</td>\n",
       "    </tr>\n",
       "    <tr>\n",
       "      <th>date_cat_avg_item_cnt_prev_12</th>\n",
       "      <td>7988462</td>\n",
       "    </tr>\n",
       "    <tr>\n",
       "      <th>date_shop_cat_avg_item_cnt_prev_1</th>\n",
       "      <td>2498861</td>\n",
       "    </tr>\n",
       "    <tr>\n",
       "      <th>date_shop_cat_avg_item_cnt_prev_6</th>\n",
       "      <td>5385743</td>\n",
       "    </tr>\n",
       "    <tr>\n",
       "      <th>date_shop_cat_avg_item_cnt_prev_12</th>\n",
       "      <td>7988462</td>\n",
       "    </tr>\n",
       "    <tr>\n",
       "      <th>date_shop_type_avg_item_cnt_prev_1</th>\n",
       "      <td>2498861</td>\n",
       "    </tr>\n",
       "    <tr>\n",
       "      <th>date_shop_type_avg_item_cnt_prev_6</th>\n",
       "      <td>5385743</td>\n",
       "    </tr>\n",
       "    <tr>\n",
       "      <th>date_shop_type_avg_item_cnt_prev_12</th>\n",
       "      <td>7988462</td>\n",
       "    </tr>\n",
       "    <tr>\n",
       "      <th>date_shop_subtype_avg_item_cnt_prev_1</th>\n",
       "      <td>2498861</td>\n",
       "    </tr>\n",
       "    <tr>\n",
       "      <th>date_shop_subtype_avg_item_cnt_prev_6</th>\n",
       "      <td>5385743</td>\n",
       "    </tr>\n",
       "    <tr>\n",
       "      <th>date_shop_subtype_avg_item_cnt_prev_12</th>\n",
       "      <td>7988462</td>\n",
       "    </tr>\n",
       "    <tr>\n",
       "      <th>date_city_avg_item_cnt_prev_1</th>\n",
       "      <td>2498861</td>\n",
       "    </tr>\n",
       "    <tr>\n",
       "      <th>date_city_avg_item_cnt_prev_6</th>\n",
       "      <td>5385743</td>\n",
       "    </tr>\n",
       "    <tr>\n",
       "      <th>date_city_avg_item_cnt_prev_12</th>\n",
       "      <td>7988462</td>\n",
       "    </tr>\n",
       "    <tr>\n",
       "      <th>date_item_city_avg_item_cnt_prev_1</th>\n",
       "      <td>2498861</td>\n",
       "    </tr>\n",
       "    <tr>\n",
       "      <th>date_item_city_avg_item_cnt_prev_6</th>\n",
       "      <td>5385743</td>\n",
       "    </tr>\n",
       "    <tr>\n",
       "      <th>date_item_city_avg_item_cnt_prev_12</th>\n",
       "      <td>7988462</td>\n",
       "    </tr>\n",
       "    <tr>\n",
       "      <th>date_type_avg_item_cnt_prev_1</th>\n",
       "      <td>2498861</td>\n",
       "    </tr>\n",
       "    <tr>\n",
       "      <th>date_type_avg_item_cnt_prev_6</th>\n",
       "      <td>5385743</td>\n",
       "    </tr>\n",
       "    <tr>\n",
       "      <th>date_type_avg_item_cnt_prev_12</th>\n",
       "      <td>7988462</td>\n",
       "    </tr>\n",
       "    <tr>\n",
       "      <th>date_subtype_avg_item_cnt_prev_1</th>\n",
       "      <td>2498861</td>\n",
       "    </tr>\n",
       "    <tr>\n",
       "      <th>date_subtype_avg_item_cnt_prev_6</th>\n",
       "      <td>5385743</td>\n",
       "    </tr>\n",
       "    <tr>\n",
       "      <th>date_subtype_avg_item_cnt_prev_12</th>\n",
       "      <td>7988462</td>\n",
       "    </tr>\n",
       "    <tr>\n",
       "      <th>days</th>\n",
       "      <td>0</td>\n",
       "    </tr>\n",
       "    <tr>\n",
       "      <th>date_prev_shop</th>\n",
       "      <td>9845487</td>\n",
       "    </tr>\n",
       "    <tr>\n",
       "      <th>date_diff_shop</th>\n",
       "      <td>9845487</td>\n",
       "    </tr>\n",
       "    <tr>\n",
       "      <th>date_prev_item</th>\n",
       "      <td>1023682</td>\n",
       "    </tr>\n",
       "    <tr>\n",
       "      <th>date_diff_item</th>\n",
       "      <td>1023682</td>\n",
       "    </tr>\n",
       "  </tbody>\n",
       "</table>\n",
       "</div>"
      ],
      "text/plain": [
       "                                        Missing Values\n",
       "date_block_num                                       0\n",
       "shop_id                                              0\n",
       "item_id                                              0\n",
       "item_cnt_month                                       0\n",
       "month                                                0\n",
       "hol_count                                            0\n",
       "city_code                                            0\n",
       "item_category_id                                     0\n",
       "type_code                                            0\n",
       "subtype_code                                         0\n",
       "item_price                                           0\n",
       "item_cnt_month_prev_1                                0\n",
       "item_cnt_month_prev_2                                0\n",
       "item_cnt_month_prev_3                                0\n",
       "item_cnt_month_prev_6                                0\n",
       "item_cnt_month_prev_12                               0\n",
       "item_price_prev_1                                    0\n",
       "item_price_prev_2                                    0\n",
       "item_price_prev_3                                    0\n",
       "item_price_prev_6                                    0\n",
       "item_price_prev_12                                   0\n",
       "revenue                                              0\n",
       "revenue_prev_1                                       0\n",
       "date_item_avg_item_price_prev_1                      0\n",
       "date_item_avg_item_price_prev_6                      0\n",
       "date_item_avg_item_price_prev_12                     0\n",
       "date_shop_avg_item_price_prev_1                      0\n",
       "date_shop_avg_item_price_prev_6                      0\n",
       "date_shop_avg_item_price_prev_12                     0\n",
       "item_price_item_diff_1                               0\n",
       "item_price_item_diff_6                               0\n",
       "item_price_item_diff_12                              0\n",
       "item_price_shop_diff_1                               0\n",
       "item_price_shop_diff_6                               0\n",
       "item_price_shop_diff_12                              0\n",
       "date_avg_item_cnt_prev_1                       2498861\n",
       "date_avg_item_cnt_prev_6                       5385743\n",
       "date_avg_item_cnt_prev_12                      7988462\n",
       "date_shop_item_avg_item_cnt_prev_1             2498861\n",
       "date_shop_item_avg_item_cnt_prev_6             5385743\n",
       "date_shop_item_avg_item_cnt_prev_12            7988462\n",
       "date_item_avg_item_cnt_prev_1                  2498861\n",
       "date_item_avg_item_cnt_prev_6                  5385743\n",
       "date_item_avg_item_cnt_prev_12                 7988462\n",
       "date_shop_avg_item_cnt_prev_1                  2498861\n",
       "date_shop_avg_item_cnt_prev_6                  5385743\n",
       "date_shop_avg_item_cnt_prev_12                 7988462\n",
       "date_cat_avg_item_cnt_prev_1                   2498861\n",
       "date_cat_avg_item_cnt_prev_6                   5385743\n",
       "date_cat_avg_item_cnt_prev_12                  7988462\n",
       "date_shop_cat_avg_item_cnt_prev_1              2498861\n",
       "date_shop_cat_avg_item_cnt_prev_6              5385743\n",
       "date_shop_cat_avg_item_cnt_prev_12             7988462\n",
       "date_shop_type_avg_item_cnt_prev_1             2498861\n",
       "date_shop_type_avg_item_cnt_prev_6             5385743\n",
       "date_shop_type_avg_item_cnt_prev_12            7988462\n",
       "date_shop_subtype_avg_item_cnt_prev_1          2498861\n",
       "date_shop_subtype_avg_item_cnt_prev_6          5385743\n",
       "date_shop_subtype_avg_item_cnt_prev_12         7988462\n",
       "date_city_avg_item_cnt_prev_1                  2498861\n",
       "date_city_avg_item_cnt_prev_6                  5385743\n",
       "date_city_avg_item_cnt_prev_12                 7988462\n",
       "date_item_city_avg_item_cnt_prev_1             2498861\n",
       "date_item_city_avg_item_cnt_prev_6             5385743\n",
       "date_item_city_avg_item_cnt_prev_12            7988462\n",
       "date_type_avg_item_cnt_prev_1                  2498861\n",
       "date_type_avg_item_cnt_prev_6                  5385743\n",
       "date_type_avg_item_cnt_prev_12                 7988462\n",
       "date_subtype_avg_item_cnt_prev_1               2498861\n",
       "date_subtype_avg_item_cnt_prev_6               5385743\n",
       "date_subtype_avg_item_cnt_prev_12              7988462\n",
       "days                                                 0\n",
       "date_prev_shop                                 9845487\n",
       "date_diff_shop                                 9845487\n",
       "date_prev_item                                 1023682\n",
       "date_diff_item                                 1023682"
      ]
     },
     "execution_count": 49,
     "metadata": {},
     "output_type": "execute_result"
    }
   ],
   "source": [
    "pd.DataFrame(grid.isnull().sum(), columns=['Missing Values'])\n"
   ]
  },
  {
   "cell_type": "code",
   "execution_count": 50,
   "metadata": {},
   "outputs": [],
   "source": [
    "grid = grid.fillna(0)"
   ]
  },
  {
   "cell_type": "markdown",
   "metadata": {},
   "source": [
    "### c. First month of Shop / Item sale"
   ]
  },
  {
   "cell_type": "code",
   "execution_count": 61,
   "metadata": {},
   "outputs": [
    {
     "data": {
      "text/plain": [
       "19.020638465881348"
      ]
     },
     "execution_count": 61,
     "metadata": {},
     "output_type": "execute_result"
    }
   ],
   "source": [
    "ts = time.time()\n",
    "grid['item_shop_first_sale'] = grid['date_block_num'] - grid.groupby(['item_id','shop_id'])['date_block_num'].transform('min')\n",
    "grid['item_first_sale'] = grid['date_block_num'] - grid.groupby('item_id')['date_block_num'].transform('min')\n",
    "time.time() - ts"
   ]
  },
  {
   "cell_type": "markdown",
   "metadata": {},
   "source": [
    "### Save data set"
   ]
  },
  {
   "cell_type": "code",
   "execution_count": 63,
   "metadata": {},
   "outputs": [],
   "source": [
    "grid.to_pickle('data_full.pkl')\n",
    "\n",
    "# leave test for submission\n",
    "gc.collect();"
   ]
  },
  {
   "cell_type": "code",
   "execution_count": 4,
   "metadata": {},
   "outputs": [],
   "source": [
    "data = pd.read_pickle('data_full.pkl')"
   ]
  },
  {
   "cell_type": "code",
   "execution_count": 5,
   "metadata": {},
   "outputs": [
    {
     "data": {
      "text/html": [
       "<div>\n",
       "<style scoped>\n",
       "    .dataframe tbody tr th:only-of-type {\n",
       "        vertical-align: middle;\n",
       "    }\n",
       "\n",
       "    .dataframe tbody tr th {\n",
       "        vertical-align: top;\n",
       "    }\n",
       "\n",
       "    .dataframe thead th {\n",
       "        text-align: right;\n",
       "    }\n",
       "</style>\n",
       "<table border=\"1\" class=\"dataframe\">\n",
       "  <thead>\n",
       "    <tr style=\"text-align: right;\">\n",
       "      <th></th>\n",
       "      <th>date_block_num</th>\n",
       "      <th>shop_id</th>\n",
       "      <th>item_id</th>\n",
       "      <th>item_cnt_month</th>\n",
       "      <th>month</th>\n",
       "      <th>hol_count</th>\n",
       "      <th>city_code</th>\n",
       "      <th>item_category_id</th>\n",
       "      <th>type_code</th>\n",
       "      <th>subtype_code</th>\n",
       "      <th>...</th>\n",
       "      <th>item_name_tfidf_2</th>\n",
       "      <th>item_name_tfidf_3</th>\n",
       "      <th>item_name_tfidf_4</th>\n",
       "      <th>item_name_tfidf_5</th>\n",
       "      <th>item_name_tfidf_6</th>\n",
       "      <th>item_name_tfidf_7</th>\n",
       "      <th>item_name_tfidf_8</th>\n",
       "      <th>item_name_tfidf_9</th>\n",
       "      <th>item_shop_first_sale</th>\n",
       "      <th>item_first_sale</th>\n",
       "    </tr>\n",
       "  </thead>\n",
       "  <tbody>\n",
       "    <tr>\n",
       "      <th>0</th>\n",
       "      <td>0</td>\n",
       "      <td>2</td>\n",
       "      <td>19</td>\n",
       "      <td>0.0</td>\n",
       "      <td>1</td>\n",
       "      <td>8.0</td>\n",
       "      <td>0</td>\n",
       "      <td>40</td>\n",
       "      <td>10</td>\n",
       "      <td>18</td>\n",
       "      <td>...</td>\n",
       "      <td>0.0</td>\n",
       "      <td>0.000000000000000</td>\n",
       "      <td>0.0</td>\n",
       "      <td>0.000000000000000</td>\n",
       "      <td>0.0</td>\n",
       "      <td>0.000000000000000</td>\n",
       "      <td>0.0</td>\n",
       "      <td>0.000000000000000</td>\n",
       "      <td>0</td>\n",
       "      <td>0</td>\n",
       "    </tr>\n",
       "    <tr>\n",
       "      <th>1</th>\n",
       "      <td>0</td>\n",
       "      <td>2</td>\n",
       "      <td>27</td>\n",
       "      <td>1.0</td>\n",
       "      <td>1</td>\n",
       "      <td>8.0</td>\n",
       "      <td>0</td>\n",
       "      <td>19</td>\n",
       "      <td>5</td>\n",
       "      <td>42</td>\n",
       "      <td>...</td>\n",
       "      <td>0.0</td>\n",
       "      <td>0.000000000000000</td>\n",
       "      <td>0.0</td>\n",
       "      <td>0.000000000000000</td>\n",
       "      <td>0.0</td>\n",
       "      <td>0.756200362511530</td>\n",
       "      <td>0.0</td>\n",
       "      <td>0.654340134591659</td>\n",
       "      <td>0</td>\n",
       "      <td>0</td>\n",
       "    </tr>\n",
       "    <tr>\n",
       "      <th>2</th>\n",
       "      <td>0</td>\n",
       "      <td>2</td>\n",
       "      <td>28</td>\n",
       "      <td>0.0</td>\n",
       "      <td>1</td>\n",
       "      <td>8.0</td>\n",
       "      <td>0</td>\n",
       "      <td>30</td>\n",
       "      <td>8</td>\n",
       "      <td>52</td>\n",
       "      <td>...</td>\n",
       "      <td>0.0</td>\n",
       "      <td>0.555240340614178</td>\n",
       "      <td>0.0</td>\n",
       "      <td>0.453565515775976</td>\n",
       "      <td>0.0</td>\n",
       "      <td>0.527167924921431</td>\n",
       "      <td>0.0</td>\n",
       "      <td>0.456158378184109</td>\n",
       "      <td>0</td>\n",
       "      <td>0</td>\n",
       "    </tr>\n",
       "    <tr>\n",
       "      <th>3</th>\n",
       "      <td>0</td>\n",
       "      <td>2</td>\n",
       "      <td>29</td>\n",
       "      <td>0.0</td>\n",
       "      <td>1</td>\n",
       "      <td>8.0</td>\n",
       "      <td>0</td>\n",
       "      <td>23</td>\n",
       "      <td>5</td>\n",
       "      <td>59</td>\n",
       "      <td>...</td>\n",
       "      <td>0.0</td>\n",
       "      <td>0.000000000000000</td>\n",
       "      <td>0.0</td>\n",
       "      <td>0.000000000000000</td>\n",
       "      <td>0.0</td>\n",
       "      <td>0.756200362511530</td>\n",
       "      <td>0.0</td>\n",
       "      <td>0.654340134591659</td>\n",
       "      <td>0</td>\n",
       "      <td>0</td>\n",
       "    </tr>\n",
       "    <tr>\n",
       "      <th>4</th>\n",
       "      <td>0</td>\n",
       "      <td>2</td>\n",
       "      <td>32</td>\n",
       "      <td>0.0</td>\n",
       "      <td>1</td>\n",
       "      <td>8.0</td>\n",
       "      <td>0</td>\n",
       "      <td>40</td>\n",
       "      <td>10</td>\n",
       "      <td>18</td>\n",
       "      <td>...</td>\n",
       "      <td>0.0</td>\n",
       "      <td>0.000000000000000</td>\n",
       "      <td>0.0</td>\n",
       "      <td>0.000000000000000</td>\n",
       "      <td>0.0</td>\n",
       "      <td>0.000000000000000</td>\n",
       "      <td>0.0</td>\n",
       "      <td>0.000000000000000</td>\n",
       "      <td>0</td>\n",
       "      <td>0</td>\n",
       "    </tr>\n",
       "  </tbody>\n",
       "</table>\n",
       "<p>5 rows × 88 columns</p>\n",
       "</div>"
      ],
      "text/plain": [
       "   date_block_num  shop_id  item_id  item_cnt_month  month  hol_count  \\\n",
       "0               0        2       19             0.0      1        8.0   \n",
       "1               0        2       27             1.0      1        8.0   \n",
       "2               0        2       28             0.0      1        8.0   \n",
       "3               0        2       29             0.0      1        8.0   \n",
       "4               0        2       32             0.0      1        8.0   \n",
       "\n",
       "   city_code  item_category_id  type_code  subtype_code  ...  \\\n",
       "0          0                40         10            18  ...   \n",
       "1          0                19          5            42  ...   \n",
       "2          0                30          8            52  ...   \n",
       "3          0                23          5            59  ...   \n",
       "4          0                40         10            18  ...   \n",
       "\n",
       "   item_name_tfidf_2  item_name_tfidf_3  item_name_tfidf_4  item_name_tfidf_5  \\\n",
       "0                0.0  0.000000000000000                0.0  0.000000000000000   \n",
       "1                0.0  0.000000000000000                0.0  0.000000000000000   \n",
       "2                0.0  0.555240340614178                0.0  0.453565515775976   \n",
       "3                0.0  0.000000000000000                0.0  0.000000000000000   \n",
       "4                0.0  0.000000000000000                0.0  0.000000000000000   \n",
       "\n",
       "   item_name_tfidf_6  item_name_tfidf_7  item_name_tfidf_8  item_name_tfidf_9  \\\n",
       "0                0.0  0.000000000000000                0.0  0.000000000000000   \n",
       "1                0.0  0.756200362511530                0.0  0.654340134591659   \n",
       "2                0.0  0.527167924921431                0.0  0.456158378184109   \n",
       "3                0.0  0.756200362511530                0.0  0.654340134591659   \n",
       "4                0.0  0.000000000000000                0.0  0.000000000000000   \n",
       "\n",
       "   item_shop_first_sale  item_first_sale  \n",
       "0                     0                0  \n",
       "1                     0                0  \n",
       "2                     0                0  \n",
       "3                     0                0  \n",
       "4                     0                0  \n",
       "\n",
       "[5 rows x 88 columns]"
      ]
     },
     "execution_count": 5,
     "metadata": {},
     "output_type": "execute_result"
    }
   ],
   "source": [
    "data.head()"
   ]
  },
  {
   "cell_type": "markdown",
   "metadata": {},
   "source": [
    "Due to the large data set and features that have been created, any that are highly correlated (> 95%) are removed as it will reduce the large number of data points without losing much information."
   ]
  },
  {
   "cell_type": "code",
   "execution_count": 6,
   "metadata": {
    "scrolled": true
   },
   "outputs": [
    {
     "data": {
      "text/plain": [
       "['item_price_shop_diff_1',\n",
       " 'item_price_shop_diff_6',\n",
       " 'date_shop_item_avg_item_cnt_prev_1',\n",
       " 'date_shop_item_avg_item_cnt_prev_6',\n",
       " 'date_shop_item_avg_item_cnt_prev_12',\n",
       " 'date_shop_subtype_avg_item_cnt_prev_1',\n",
       " 'date_shop_subtype_avg_item_cnt_prev_6',\n",
       " 'date_shop_subtype_avg_item_cnt_prev_12',\n",
       " 'date_city_avg_item_cnt_prev_12',\n",
       " 'date_subtype_avg_item_cnt_prev_1',\n",
       " 'date_subtype_avg_item_cnt_prev_6',\n",
       " 'date_subtype_avg_item_cnt_prev_12']"
      ]
     },
     "execution_count": 6,
     "metadata": {},
     "output_type": "execute_result"
    }
   ],
   "source": [
    "# Create correlation matrix\n",
    "corr_matrix = data.corr().abs()\n",
    "\n",
    "# Select upper triangle of correlation matrix\n",
    "upper = corr_matrix.where(np.triu(np.ones(corr_matrix.shape), k=1).astype(np.bool))\n",
    "\n",
    "# Find index of feature columns with correlation greater than 0.9\n",
    "to_drop = [column for column in upper.columns if any(upper[column] > 0.95)]\n",
    "to_drop"
   ]
  },
  {
   "cell_type": "markdown",
   "metadata": {},
   "source": [
    "There columns along with the item_price and revenue (as these aren't something known for the test set) are dropped."
   ]
  },
  {
   "cell_type": "code",
   "execution_count": 6,
   "metadata": {},
   "outputs": [],
   "source": [
    "data.drop(columns=['item_price', 'revenue',\n",
    "                   'item_price_shop_diff_1',\n",
    " 'item_price_shop_diff_6',\n",
    " 'date_shop_item_avg_item_cnt_prev_1',\n",
    " 'date_shop_item_avg_item_cnt_prev_6',\n",
    " 'date_shop_item_avg_item_cnt_prev_12',\n",
    " 'date_shop_subtype_avg_item_cnt_prev_1',\n",
    " 'date_shop_subtype_avg_item_cnt_prev_6',\n",
    " 'date_shop_subtype_avg_item_cnt_prev_12',\n",
    " 'date_city_avg_item_cnt_prev_12',\n",
    " 'date_subtype_avg_item_cnt_prev_1',\n",
    " 'date_subtype_avg_item_cnt_prev_6',\n",
    " 'date_subtype_avg_item_cnt_prev_12']\n",
    ",inplace=True)"
   ]
  },
  {
   "cell_type": "markdown",
   "metadata": {},
   "source": [
    "### Data Size limitation"
   ]
  },
  {
   "cell_type": "markdown",
   "metadata": {},
   "source": [
    "When trying to tune hyperparameters and cross validate, my laptop didn't have enought memory to deal with the size of the data needed. Therefore for now I decide to tune models on a random sample of half the full data set. This is still approximately 5.5 million rows so should be enough to be able to achieve a respectable score."
   ]
  },
  {
   "cell_type": "code",
   "execution_count": 7,
   "metadata": {},
   "outputs": [],
   "source": [
    "X_test = data[data.date_block_num == 34].drop(['item_cnt_month'], axis=1)\n",
    "data = data[data.date_block_num <= 33]"
   ]
  },
  {
   "cell_type": "code",
   "execution_count": 9,
   "metadata": {},
   "outputs": [],
   "source": [
    "data = data.sample(frac=0.5, replace=False, random_state=1)"
   ]
  },
  {
   "cell_type": "code",
   "execution_count": 10,
   "metadata": {},
   "outputs": [],
   "source": [
    "X_train = data[data.date_block_num < 33].drop(['item_cnt_month'], axis=1)\n",
    "Y_train = data[data.date_block_num < 33]['item_cnt_month']\n",
    "X_valid = data[data.date_block_num == 33].drop(['item_cnt_month'], axis=1)\n",
    "Y_valid = data[data.date_block_num == 33]['item_cnt_month']"
   ]
  },
  {
   "cell_type": "code",
   "execution_count": 11,
   "metadata": {},
   "outputs": [],
   "source": [
    "del data"
   ]
  },
  {
   "cell_type": "code",
   "execution_count": 14,
   "metadata": {
    "scrolled": true
   },
   "outputs": [],
   "source": [
    "dtrain = xgb.DMatrix(X_train, label=Y_train)\n",
    "dtest = xgb.DMatrix(X_valid, label=Y_valid)"
   ]
  },
  {
   "cell_type": "markdown",
   "metadata": {},
   "source": [
    "### Xgboost"
   ]
  },
  {
   "cell_type": "markdown",
   "metadata": {},
   "source": [
    "As anyone on Kaggle is aware, Xgboost is a popular algorithm to be using so for the purpose of this problem I am just focusing on Xgboost. I'm not including all the steps taken on tuning the hyperparameters but these are the best set of parameters on a initial round of tuning (due to data size and time taken). An improvement could probably be scored on more refined tuning."
   ]
  },
  {
   "cell_type": "code",
   "execution_count": 12,
   "metadata": {
    "scrolled": true
   },
   "outputs": [
    {
     "name": "stdout",
     "output_type": "stream",
     "text": [
      "[18:54:27] WARNING: src/objective/regression_obj.cu:152: reg:linear is now deprecated in favor of reg:squarederror.\n",
      "[18:54:27] WARNING: src/learner.cc:686: Tree method is automatically selected to be 'approx' for faster speed. To use old behavior (exact greedy algorithm on single machine), set tree_method to 'exact'.\n",
      "[0]\tvalidation_0-rmse:1.14771\tvalidation_1-rmse:1.12484\n",
      "Multiple eval metrics have been passed: 'validation_1-rmse' will be used for early stopping.\n",
      "\n",
      "Will train until validation_1-rmse hasn't improved in 10 rounds.\n",
      "[1]\tvalidation_0-rmse:1.1018\tvalidation_1-rmse:1.0785\n",
      "[2]\tvalidation_0-rmse:1.07306\tvalidation_1-rmse:1.0478\n",
      "[3]\tvalidation_0-rmse:1.02121\tvalidation_1-rmse:1.01205\n",
      "[4]\tvalidation_0-rmse:0.98753\tvalidation_1-rmse:0.983886\n",
      "[5]\tvalidation_0-rmse:0.96125\tvalidation_1-rmse:0.95946\n",
      "[6]\tvalidation_0-rmse:0.936699\tvalidation_1-rmse:0.939832\n",
      "[7]\tvalidation_0-rmse:0.914761\tvalidation_1-rmse:0.921624\n",
      "[8]\tvalidation_0-rmse:0.899091\tvalidation_1-rmse:0.908569\n",
      "[9]\tvalidation_0-rmse:0.886128\tvalidation_1-rmse:0.898055\n",
      "[10]\tvalidation_0-rmse:0.873915\tvalidation_1-rmse:0.887167\n",
      "[11]\tvalidation_0-rmse:0.866284\tvalidation_1-rmse:0.881798\n",
      "[12]\tvalidation_0-rmse:0.857497\tvalidation_1-rmse:0.87518\n",
      "[13]\tvalidation_0-rmse:0.850361\tvalidation_1-rmse:0.869958\n",
      "[14]\tvalidation_0-rmse:0.844126\tvalidation_1-rmse:0.865334\n",
      "[15]\tvalidation_0-rmse:0.838939\tvalidation_1-rmse:0.861443\n",
      "[16]\tvalidation_0-rmse:0.834435\tvalidation_1-rmse:0.857504\n",
      "[17]\tvalidation_0-rmse:0.830617\tvalidation_1-rmse:0.854427\n",
      "[18]\tvalidation_0-rmse:0.827122\tvalidation_1-rmse:0.851665\n",
      "[19]\tvalidation_0-rmse:0.824208\tvalidation_1-rmse:0.849118\n",
      "[20]\tvalidation_0-rmse:0.821269\tvalidation_1-rmse:0.847757\n",
      "[21]\tvalidation_0-rmse:0.818623\tvalidation_1-rmse:0.845346\n",
      "[22]\tvalidation_0-rmse:0.816751\tvalidation_1-rmse:0.843222\n",
      "[23]\tvalidation_0-rmse:0.814773\tvalidation_1-rmse:0.84137\n",
      "[24]\tvalidation_0-rmse:0.812847\tvalidation_1-rmse:0.839746\n",
      "[25]\tvalidation_0-rmse:0.811012\tvalidation_1-rmse:0.837277\n",
      "[26]\tvalidation_0-rmse:0.80902\tvalidation_1-rmse:0.835359\n",
      "[27]\tvalidation_0-rmse:0.807438\tvalidation_1-rmse:0.834482\n",
      "[28]\tvalidation_0-rmse:0.805731\tvalidation_1-rmse:0.833197\n",
      "[29]\tvalidation_0-rmse:0.804617\tvalidation_1-rmse:0.832613\n",
      "[30]\tvalidation_0-rmse:0.803372\tvalidation_1-rmse:0.831622\n",
      "[31]\tvalidation_0-rmse:0.802097\tvalidation_1-rmse:0.829948\n",
      "[32]\tvalidation_0-rmse:0.800875\tvalidation_1-rmse:0.828995\n",
      "[33]\tvalidation_0-rmse:0.800099\tvalidation_1-rmse:0.828637\n",
      "[34]\tvalidation_0-rmse:0.799301\tvalidation_1-rmse:0.828619\n",
      "[35]\tvalidation_0-rmse:0.798362\tvalidation_1-rmse:0.828599\n",
      "[36]\tvalidation_0-rmse:0.797634\tvalidation_1-rmse:0.828889\n",
      "[37]\tvalidation_0-rmse:0.796833\tvalidation_1-rmse:0.828743\n",
      "[38]\tvalidation_0-rmse:0.796074\tvalidation_1-rmse:0.828088\n",
      "[39]\tvalidation_0-rmse:0.795345\tvalidation_1-rmse:0.828065\n",
      "[40]\tvalidation_0-rmse:0.794574\tvalidation_1-rmse:0.827689\n",
      "[41]\tvalidation_0-rmse:0.79388\tvalidation_1-rmse:0.827487\n",
      "[42]\tvalidation_0-rmse:0.79336\tvalidation_1-rmse:0.827671\n",
      "[43]\tvalidation_0-rmse:0.792614\tvalidation_1-rmse:0.827267\n",
      "[44]\tvalidation_0-rmse:0.792101\tvalidation_1-rmse:0.826962\n",
      "[45]\tvalidation_0-rmse:0.791641\tvalidation_1-rmse:0.827131\n",
      "[46]\tvalidation_0-rmse:0.791402\tvalidation_1-rmse:0.82727\n",
      "[47]\tvalidation_0-rmse:0.790847\tvalidation_1-rmse:0.827041\n",
      "[48]\tvalidation_0-rmse:0.790424\tvalidation_1-rmse:0.827007\n",
      "[49]\tvalidation_0-rmse:0.790082\tvalidation_1-rmse:0.826973\n"
     ]
    },
    {
     "data": {
      "text/plain": [
       "5791.194535255432"
      ]
     },
     "execution_count": 12,
     "metadata": {},
     "output_type": "execute_result"
    }
   ],
   "source": [
    "ts = time.time()\n",
    "\n",
    "model = xgb.XGBRegressor(\n",
    "    max_depth=7,\n",
    "    n_estimators=50,\n",
    "    min_child_weight=5, \n",
    "    colsample_bytree=0.8, \n",
    "    subsample=0.8, \n",
    "    eta=0.3,    \n",
    "    seed=123)\n",
    "\n",
    "model.fit(\n",
    "    X_train, \n",
    "    Y_train,\n",
    "    eval_metric=\"rmse\", \n",
    "    eval_set=[(X_train, Y_train), (X_valid, Y_valid)], \n",
    "    verbose=True, \n",
    "    early_stopping_rounds = 10)\n",
    "\n",
    "time.time() - ts"
   ]
  },
  {
   "cell_type": "markdown",
   "metadata": {},
   "source": [
    "### Output submission file and look at feature importance"
   ]
  },
  {
   "cell_type": "code",
   "execution_count": 13,
   "metadata": {},
   "outputs": [],
   "source": [
    "test = pd.read_csv('data/test.csv')"
   ]
  },
  {
   "cell_type": "code",
   "execution_count": 14,
   "metadata": {},
   "outputs": [],
   "source": [
    "import pickle \n",
    "\n",
    "Y_pred = model.predict(X_valid).clip(0, 20)\n",
    "Y_test = model.predict(X_test).clip(0, 20)\n",
    "\n",
    "submission = pd.DataFrame({\n",
    "    \"ID\": test.index, \n",
    "    \"item_cnt_month\": Y_test\n",
    "})\n",
    "submission.to_csv('xgb_submission_full.csv', index=False)\n",
    "\n",
    "# save predictions for an ensemble\n",
    "pickle.dump(Y_pred, open('xgb_train.pickle', 'wb'))\n",
    "pickle.dump(Y_test, open('xgb_test.pickle', 'wb'))"
   ]
  },
  {
   "cell_type": "code",
   "execution_count": 27,
   "metadata": {
    "scrolled": false
   },
   "outputs": [
    {
     "data": {
      "image/png": "[encoded data removed]",
      "text/plain": [
       "<Figure size 720x720 with 1 Axes>"
      ]
     },
     "metadata": {
      "needs_background": "light"
     },
     "output_type": "display_data"
    }
   ],
   "source": [
    "from xgboost import plot_importance\n",
    "from matplotlib import pyplot\n",
    "fig, ax = plt.subplots(figsize=(10,10))\n",
    "\n",
    "plot_importance(model, ax=ax)\n",
    "pyplot.show()"
   ]
  }
 ],
 "metadata": {
  "kernelspec": {
   "display_name": "Python 3",
   "language": "python",
   "name": "python3"
  },
  "language_info": {
   "codemirror_mode": {
    "name": "ipython",
    "version": 3
   },
   "file_extension": ".py",
   "mimetype": "text/x-python",
   "name": "python",
   "nbconvert_exporter": "python",
   "pygments_lexer": "ipython3",
   "version": "3.7.7"
  }
 },
 "nbformat": 4,
 "nbformat_minor": 4
}
